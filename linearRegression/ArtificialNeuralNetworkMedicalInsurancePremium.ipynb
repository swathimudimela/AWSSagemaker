{
 "cells": [
  {
   "cell_type": "markdown",
   "id": "28e17807-adf2-4e1b-9983-a968ccd84440",
   "metadata": {},
   "source": [
    "# R2 score with linear regressor was in 70% so trying to train artifical neural network for better results."
   ]
  },
  {
   "cell_type": "code",
   "execution_count": 1,
   "id": "75a9fc79-b070-4f2f-b476-e9bad1950ffb",
   "metadata": {
    "execution": {
     "iopub.execute_input": "2025-10-07T17:56:17.351171Z",
     "iopub.status.busy": "2025-10-07T17:56:17.350703Z",
     "iopub.status.idle": "2025-10-07T17:56:19.510822Z",
     "shell.execute_reply": "2025-10-07T17:56:19.510025Z",
     "shell.execute_reply.started": "2025-10-07T17:56:17.351141Z"
    }
   },
   "outputs": [],
   "source": [
    "import pandas as pd\n",
    "import numpy as np\n",
    "import matplotlib.pyplot as plt\n",
    "import seaborn as sns"
   ]
  },
  {
   "cell_type": "code",
   "execution_count": 2,
   "id": "2b1d6801-0cb0-49d4-8a3c-999fa3e0cb04",
   "metadata": {
    "execution": {
     "iopub.execute_input": "2025-10-07T17:57:12.215828Z",
     "iopub.status.busy": "2025-10-07T17:57:12.215542Z",
     "iopub.status.idle": "2025-10-07T17:57:12.285896Z",
     "shell.execute_reply": "2025-10-07T17:57:12.285050Z",
     "shell.execute_reply.started": "2025-10-07T17:57:12.215802Z"
    }
   },
   "outputs": [],
   "source": [
    "# convert the csv file into data frame\n",
    "insurance_df = pd.read_csv(\"insurance.csv\")"
   ]
  },
  {
   "cell_type": "code",
   "execution_count": 3,
   "id": "32f32d56-4bac-4506-8b6e-7be554aa3b25",
   "metadata": {
    "execution": {
     "iopub.execute_input": "2025-10-07T17:57:24.805852Z",
     "iopub.status.busy": "2025-10-07T17:57:24.805464Z",
     "iopub.status.idle": "2025-10-07T17:57:24.832925Z",
     "shell.execute_reply": "2025-10-07T17:57:24.832036Z",
     "shell.execute_reply.started": "2025-10-07T17:57:24.805821Z"
    }
   },
   "outputs": [
    {
     "name": "stdout",
     "output_type": "stream",
     "text": [
      "<class 'pandas.core.frame.DataFrame'>\n",
      "RangeIndex: 1338 entries, 0 to 1337\n",
      "Data columns (total 7 columns):\n",
      " #   Column    Non-Null Count  Dtype  \n",
      "---  ------    --------------  -----  \n",
      " 0   age       1338 non-null   int64  \n",
      " 1   sex       1338 non-null   object \n",
      " 2   bmi       1338 non-null   float64\n",
      " 3   children  1338 non-null   int64  \n",
      " 4   smoker    1338 non-null   object \n",
      " 5   region    1338 non-null   object \n",
      " 6   charges   1338 non-null   float64\n",
      "dtypes: float64(2), int64(2), object(3)\n",
      "memory usage: 73.3+ KB\n"
     ]
    }
   ],
   "source": [
    "insurance_df.info()"
   ]
  },
  {
   "cell_type": "code",
   "execution_count": 4,
   "id": "a8c38f0f-7406-450b-bf74-2d36ad6a16a8",
   "metadata": {
    "execution": {
     "iopub.execute_input": "2025-10-07T17:58:46.456581Z",
     "iopub.status.busy": "2025-10-07T17:58:46.455724Z",
     "iopub.status.idle": "2025-10-07T17:58:46.466520Z",
     "shell.execute_reply": "2025-10-07T17:58:46.465602Z",
     "shell.execute_reply.started": "2025-10-07T17:58:46.456426Z"
    }
   },
   "outputs": [
    {
     "data": {
      "text/plain": [
       "array(['female', 'male'], dtype=object)"
      ]
     },
     "execution_count": 4,
     "metadata": {},
     "output_type": "execute_result"
    }
   ],
   "source": [
    "# says no null values so making sure every column is in integer or float format\n",
    "insurance_df['sex'].unique()"
   ]
  },
  {
   "cell_type": "code",
   "execution_count": 5,
   "id": "02c9b956-89bd-4eb5-8e49-8ccd63fc9753",
   "metadata": {
    "execution": {
     "iopub.execute_input": "2025-10-07T17:59:32.199234Z",
     "iopub.status.busy": "2025-10-07T17:59:32.198830Z",
     "iopub.status.idle": "2025-10-07T17:59:32.206009Z",
     "shell.execute_reply": "2025-10-07T17:59:32.205023Z",
     "shell.execute_reply.started": "2025-10-07T17:59:32.199207Z"
    }
   },
   "outputs": [],
   "source": [
    "insurance_df['sex'] = insurance_df['sex'].apply(lambda x : 0 if x=='female' else 1)"
   ]
  },
  {
   "cell_type": "code",
   "execution_count": 6,
   "id": "8ad581a4-0daa-45f0-ba26-6d340c421f06",
   "metadata": {
    "execution": {
     "iopub.execute_input": "2025-10-07T17:59:40.532558Z",
     "iopub.status.busy": "2025-10-07T17:59:40.532193Z",
     "iopub.status.idle": "2025-10-07T17:59:40.547509Z",
     "shell.execute_reply": "2025-10-07T17:59:40.546791Z",
     "shell.execute_reply.started": "2025-10-07T17:59:40.532527Z"
    }
   },
   "outputs": [
    {
     "data": {
      "text/html": [
       "<div>\n",
       "<style scoped>\n",
       "    .dataframe tbody tr th:only-of-type {\n",
       "        vertical-align: middle;\n",
       "    }\n",
       "\n",
       "    .dataframe tbody tr th {\n",
       "        vertical-align: top;\n",
       "    }\n",
       "\n",
       "    .dataframe thead th {\n",
       "        text-align: right;\n",
       "    }\n",
       "</style>\n",
       "<table border=\"1\" class=\"dataframe\">\n",
       "  <thead>\n",
       "    <tr style=\"text-align: right;\">\n",
       "      <th></th>\n",
       "      <th>age</th>\n",
       "      <th>sex</th>\n",
       "      <th>bmi</th>\n",
       "      <th>children</th>\n",
       "      <th>smoker</th>\n",
       "      <th>region</th>\n",
       "      <th>charges</th>\n",
       "    </tr>\n",
       "  </thead>\n",
       "  <tbody>\n",
       "    <tr>\n",
       "      <th>0</th>\n",
       "      <td>19</td>\n",
       "      <td>0</td>\n",
       "      <td>27.900</td>\n",
       "      <td>0</td>\n",
       "      <td>yes</td>\n",
       "      <td>southwest</td>\n",
       "      <td>16884.92400</td>\n",
       "    </tr>\n",
       "    <tr>\n",
       "      <th>1</th>\n",
       "      <td>18</td>\n",
       "      <td>1</td>\n",
       "      <td>33.770</td>\n",
       "      <td>1</td>\n",
       "      <td>no</td>\n",
       "      <td>southeast</td>\n",
       "      <td>1725.55230</td>\n",
       "    </tr>\n",
       "    <tr>\n",
       "      <th>2</th>\n",
       "      <td>28</td>\n",
       "      <td>1</td>\n",
       "      <td>33.000</td>\n",
       "      <td>3</td>\n",
       "      <td>no</td>\n",
       "      <td>southeast</td>\n",
       "      <td>4449.46200</td>\n",
       "    </tr>\n",
       "    <tr>\n",
       "      <th>3</th>\n",
       "      <td>33</td>\n",
       "      <td>1</td>\n",
       "      <td>22.705</td>\n",
       "      <td>0</td>\n",
       "      <td>no</td>\n",
       "      <td>northwest</td>\n",
       "      <td>21984.47061</td>\n",
       "    </tr>\n",
       "    <tr>\n",
       "      <th>4</th>\n",
       "      <td>32</td>\n",
       "      <td>1</td>\n",
       "      <td>28.880</td>\n",
       "      <td>0</td>\n",
       "      <td>no</td>\n",
       "      <td>northwest</td>\n",
       "      <td>3866.85520</td>\n",
       "    </tr>\n",
       "  </tbody>\n",
       "</table>\n",
       "</div>"
      ],
      "text/plain": [
       "   age  sex     bmi  children smoker     region      charges\n",
       "0   19    0  27.900         0    yes  southwest  16884.92400\n",
       "1   18    1  33.770         1     no  southeast   1725.55230\n",
       "2   28    1  33.000         3     no  southeast   4449.46200\n",
       "3   33    1  22.705         0     no  northwest  21984.47061\n",
       "4   32    1  28.880         0     no  northwest   3866.85520"
      ]
     },
     "execution_count": 6,
     "metadata": {},
     "output_type": "execute_result"
    }
   ],
   "source": [
    "insurance_df.head()"
   ]
  },
  {
   "cell_type": "code",
   "execution_count": 7,
   "id": "4b4d4588-eb42-4ebe-9f25-4c36d465121f",
   "metadata": {
    "execution": {
     "iopub.execute_input": "2025-10-07T18:00:11.771995Z",
     "iopub.status.busy": "2025-10-07T18:00:11.771652Z",
     "iopub.status.idle": "2025-10-07T18:00:11.779931Z",
     "shell.execute_reply": "2025-10-07T18:00:11.778995Z",
     "shell.execute_reply.started": "2025-10-07T18:00:11.771965Z"
    }
   },
   "outputs": [
    {
     "data": {
      "text/plain": [
       "array(['yes', 'no'], dtype=object)"
      ]
     },
     "execution_count": 7,
     "metadata": {},
     "output_type": "execute_result"
    }
   ],
   "source": [
    "# change smoker column as well\n",
    "insurance_df['smoker'].unique()"
   ]
  },
  {
   "cell_type": "code",
   "execution_count": 8,
   "id": "7fe0079a-6a62-4ca3-a761-692f3497e044",
   "metadata": {
    "execution": {
     "iopub.execute_input": "2025-10-07T18:00:58.950409Z",
     "iopub.status.busy": "2025-10-07T18:00:58.950122Z",
     "iopub.status.idle": "2025-10-07T18:00:58.958012Z",
     "shell.execute_reply": "2025-10-07T18:00:58.957111Z",
     "shell.execute_reply.started": "2025-10-07T18:00:58.950385Z"
    }
   },
   "outputs": [],
   "source": [
    "insurance_df['smoker'] = insurance_df['smoker'].apply(lambda x: 0 if x=='no' else 1)"
   ]
  },
  {
   "cell_type": "code",
   "execution_count": 10,
   "id": "b7d1b6bb-b4f1-41d1-8d9f-c820f0bfc953",
   "metadata": {
    "execution": {
     "iopub.execute_input": "2025-10-07T18:01:15.532262Z",
     "iopub.status.busy": "2025-10-07T18:01:15.531549Z",
     "iopub.status.idle": "2025-10-07T18:01:15.549495Z",
     "shell.execute_reply": "2025-10-07T18:01:15.548401Z",
     "shell.execute_reply.started": "2025-10-07T18:01:15.532226Z"
    }
   },
   "outputs": [
    {
     "data": {
      "text/html": [
       "<div>\n",
       "<style scoped>\n",
       "    .dataframe tbody tr th:only-of-type {\n",
       "        vertical-align: middle;\n",
       "    }\n",
       "\n",
       "    .dataframe tbody tr th {\n",
       "        vertical-align: top;\n",
       "    }\n",
       "\n",
       "    .dataframe thead th {\n",
       "        text-align: right;\n",
       "    }\n",
       "</style>\n",
       "<table border=\"1\" class=\"dataframe\">\n",
       "  <thead>\n",
       "    <tr style=\"text-align: right;\">\n",
       "      <th></th>\n",
       "      <th>age</th>\n",
       "      <th>sex</th>\n",
       "      <th>bmi</th>\n",
       "      <th>children</th>\n",
       "      <th>smoker</th>\n",
       "      <th>region</th>\n",
       "      <th>charges</th>\n",
       "    </tr>\n",
       "  </thead>\n",
       "  <tbody>\n",
       "    <tr>\n",
       "      <th>0</th>\n",
       "      <td>19</td>\n",
       "      <td>0</td>\n",
       "      <td>27.900</td>\n",
       "      <td>0</td>\n",
       "      <td>1</td>\n",
       "      <td>southwest</td>\n",
       "      <td>16884.92400</td>\n",
       "    </tr>\n",
       "    <tr>\n",
       "      <th>1</th>\n",
       "      <td>18</td>\n",
       "      <td>1</td>\n",
       "      <td>33.770</td>\n",
       "      <td>1</td>\n",
       "      <td>0</td>\n",
       "      <td>southeast</td>\n",
       "      <td>1725.55230</td>\n",
       "    </tr>\n",
       "    <tr>\n",
       "      <th>2</th>\n",
       "      <td>28</td>\n",
       "      <td>1</td>\n",
       "      <td>33.000</td>\n",
       "      <td>3</td>\n",
       "      <td>0</td>\n",
       "      <td>southeast</td>\n",
       "      <td>4449.46200</td>\n",
       "    </tr>\n",
       "    <tr>\n",
       "      <th>3</th>\n",
       "      <td>33</td>\n",
       "      <td>1</td>\n",
       "      <td>22.705</td>\n",
       "      <td>0</td>\n",
       "      <td>0</td>\n",
       "      <td>northwest</td>\n",
       "      <td>21984.47061</td>\n",
       "    </tr>\n",
       "    <tr>\n",
       "      <th>4</th>\n",
       "      <td>32</td>\n",
       "      <td>1</td>\n",
       "      <td>28.880</td>\n",
       "      <td>0</td>\n",
       "      <td>0</td>\n",
       "      <td>northwest</td>\n",
       "      <td>3866.85520</td>\n",
       "    </tr>\n",
       "  </tbody>\n",
       "</table>\n",
       "</div>"
      ],
      "text/plain": [
       "   age  sex     bmi  children  smoker     region      charges\n",
       "0   19    0  27.900         0       1  southwest  16884.92400\n",
       "1   18    1  33.770         1       0  southeast   1725.55230\n",
       "2   28    1  33.000         3       0  southeast   4449.46200\n",
       "3   33    1  22.705         0       0  northwest  21984.47061\n",
       "4   32    1  28.880         0       0  northwest   3866.85520"
      ]
     },
     "execution_count": 10,
     "metadata": {},
     "output_type": "execute_result"
    }
   ],
   "source": [
    "insurance_df.head()"
   ]
  },
  {
   "cell_type": "code",
   "execution_count": 11,
   "id": "42fa5ea1-f876-40e5-bb00-ddb96fb094cb",
   "metadata": {
    "execution": {
     "iopub.execute_input": "2025-10-07T18:01:59.384670Z",
     "iopub.status.busy": "2025-10-07T18:01:59.383993Z",
     "iopub.status.idle": "2025-10-07T18:01:59.391017Z",
     "shell.execute_reply": "2025-10-07T18:01:59.390194Z",
     "shell.execute_reply.started": "2025-10-07T18:01:59.384632Z"
    }
   },
   "outputs": [
    {
     "data": {
      "text/plain": [
       "array(['southwest', 'southeast', 'northwest', 'northeast'], dtype=object)"
      ]
     },
     "execution_count": 11,
     "metadata": {},
     "output_type": "execute_result"
    }
   ],
   "source": [
    "# lets see for unique values of regions and see if we can assign numeric values to it\n",
    "insurance_df['region'].unique()"
   ]
  },
  {
   "cell_type": "code",
   "execution_count": 12,
   "id": "65c2494a-7c23-40a6-adfc-bd29ae0e1309",
   "metadata": {
    "execution": {
     "iopub.execute_input": "2025-10-07T18:04:07.650887Z",
     "iopub.status.busy": "2025-10-07T18:04:07.650599Z",
     "iopub.status.idle": "2025-10-07T18:04:07.657055Z",
     "shell.execute_reply": "2025-10-07T18:04:07.656249Z",
     "shell.execute_reply.started": "2025-10-07T18:04:07.650860Z"
    }
   },
   "outputs": [],
   "source": [
    "# here there are 4 values so we try to create a seperate column for each region we will use get_dummies also lets delete teh regions that are higly correlated y setting drop_first = True\n",
    "region_dummies = pd.get_dummies(insurance_df['region'],drop_first = True)"
   ]
  },
  {
   "cell_type": "code",
   "execution_count": 13,
   "id": "93ca67ec-ead8-4bc5-ad35-fd9ae42bc87a",
   "metadata": {
    "execution": {
     "iopub.execute_input": "2025-10-07T18:04:14.731190Z",
     "iopub.status.busy": "2025-10-07T18:04:14.730785Z",
     "iopub.status.idle": "2025-10-07T18:04:14.740530Z",
     "shell.execute_reply": "2025-10-07T18:04:14.739730Z",
     "shell.execute_reply.started": "2025-10-07T18:04:14.731162Z"
    }
   },
   "outputs": [
    {
     "data": {
      "text/html": [
       "<div>\n",
       "<style scoped>\n",
       "    .dataframe tbody tr th:only-of-type {\n",
       "        vertical-align: middle;\n",
       "    }\n",
       "\n",
       "    .dataframe tbody tr th {\n",
       "        vertical-align: top;\n",
       "    }\n",
       "\n",
       "    .dataframe thead th {\n",
       "        text-align: right;\n",
       "    }\n",
       "</style>\n",
       "<table border=\"1\" class=\"dataframe\">\n",
       "  <thead>\n",
       "    <tr style=\"text-align: right;\">\n",
       "      <th></th>\n",
       "      <th>northwest</th>\n",
       "      <th>southeast</th>\n",
       "      <th>southwest</th>\n",
       "    </tr>\n",
       "  </thead>\n",
       "  <tbody>\n",
       "    <tr>\n",
       "      <th>0</th>\n",
       "      <td>False</td>\n",
       "      <td>False</td>\n",
       "      <td>True</td>\n",
       "    </tr>\n",
       "    <tr>\n",
       "      <th>1</th>\n",
       "      <td>False</td>\n",
       "      <td>True</td>\n",
       "      <td>False</td>\n",
       "    </tr>\n",
       "    <tr>\n",
       "      <th>2</th>\n",
       "      <td>False</td>\n",
       "      <td>True</td>\n",
       "      <td>False</td>\n",
       "    </tr>\n",
       "    <tr>\n",
       "      <th>3</th>\n",
       "      <td>True</td>\n",
       "      <td>False</td>\n",
       "      <td>False</td>\n",
       "    </tr>\n",
       "    <tr>\n",
       "      <th>4</th>\n",
       "      <td>True</td>\n",
       "      <td>False</td>\n",
       "      <td>False</td>\n",
       "    </tr>\n",
       "  </tbody>\n",
       "</table>\n",
       "</div>"
      ],
      "text/plain": [
       "   northwest  southeast  southwest\n",
       "0      False      False       True\n",
       "1      False       True      False\n",
       "2      False       True      False\n",
       "3       True      False      False\n",
       "4       True      False      False"
      ]
     },
     "execution_count": 13,
     "metadata": {},
     "output_type": "execute_result"
    }
   ],
   "source": [
    "region_dummies.head()"
   ]
  },
  {
   "cell_type": "code",
   "execution_count": 14,
   "id": "00f59073-a52c-4684-91c1-bd8c083d8ddc",
   "metadata": {
    "execution": {
     "iopub.execute_input": "2025-10-07T18:04:57.364961Z",
     "iopub.status.busy": "2025-10-07T18:04:57.364687Z",
     "iopub.status.idle": "2025-10-07T18:04:57.369459Z",
     "shell.execute_reply": "2025-10-07T18:04:57.368049Z",
     "shell.execute_reply.started": "2025-10-07T18:04:57.364938Z"
    }
   },
   "outputs": [],
   "source": [
    "# convert the boolena values to integer values 0 & 1\n",
    "region_dummies = region_dummies.astype(int)"
   ]
  },
  {
   "cell_type": "code",
   "execution_count": 15,
   "id": "16f3d4b1-3979-4618-8de7-3ca98ddd97ee",
   "metadata": {
    "execution": {
     "iopub.execute_input": "2025-10-07T18:05:04.579711Z",
     "iopub.status.busy": "2025-10-07T18:05:04.579273Z",
     "iopub.status.idle": "2025-10-07T18:05:04.593016Z",
     "shell.execute_reply": "2025-10-07T18:05:04.592103Z",
     "shell.execute_reply.started": "2025-10-07T18:05:04.579677Z"
    }
   },
   "outputs": [
    {
     "data": {
      "text/html": [
       "<div>\n",
       "<style scoped>\n",
       "    .dataframe tbody tr th:only-of-type {\n",
       "        vertical-align: middle;\n",
       "    }\n",
       "\n",
       "    .dataframe tbody tr th {\n",
       "        vertical-align: top;\n",
       "    }\n",
       "\n",
       "    .dataframe thead th {\n",
       "        text-align: right;\n",
       "    }\n",
       "</style>\n",
       "<table border=\"1\" class=\"dataframe\">\n",
       "  <thead>\n",
       "    <tr style=\"text-align: right;\">\n",
       "      <th></th>\n",
       "      <th>northwest</th>\n",
       "      <th>southeast</th>\n",
       "      <th>southwest</th>\n",
       "    </tr>\n",
       "  </thead>\n",
       "  <tbody>\n",
       "    <tr>\n",
       "      <th>0</th>\n",
       "      <td>0</td>\n",
       "      <td>0</td>\n",
       "      <td>1</td>\n",
       "    </tr>\n",
       "    <tr>\n",
       "      <th>1</th>\n",
       "      <td>0</td>\n",
       "      <td>1</td>\n",
       "      <td>0</td>\n",
       "    </tr>\n",
       "    <tr>\n",
       "      <th>2</th>\n",
       "      <td>0</td>\n",
       "      <td>1</td>\n",
       "      <td>0</td>\n",
       "    </tr>\n",
       "    <tr>\n",
       "      <th>3</th>\n",
       "      <td>1</td>\n",
       "      <td>0</td>\n",
       "      <td>0</td>\n",
       "    </tr>\n",
       "    <tr>\n",
       "      <th>4</th>\n",
       "      <td>1</td>\n",
       "      <td>0</td>\n",
       "      <td>0</td>\n",
       "    </tr>\n",
       "  </tbody>\n",
       "</table>\n",
       "</div>"
      ],
      "text/plain": [
       "   northwest  southeast  southwest\n",
       "0          0          0          1\n",
       "1          0          1          0\n",
       "2          0          1          0\n",
       "3          1          0          0\n",
       "4          1          0          0"
      ]
     },
     "execution_count": 15,
     "metadata": {},
     "output_type": "execute_result"
    }
   ],
   "source": [
    "region_dummies.head()"
   ]
  },
  {
   "cell_type": "code",
   "execution_count": 16,
   "id": "93e6460e-d91d-4d95-b2db-c2abc359e092",
   "metadata": {
    "execution": {
     "iopub.execute_input": "2025-10-07T18:06:39.173518Z",
     "iopub.status.busy": "2025-10-07T18:06:39.173240Z",
     "iopub.status.idle": "2025-10-07T18:06:39.178806Z",
     "shell.execute_reply": "2025-10-07T18:06:39.177921Z",
     "shell.execute_reply.started": "2025-10-07T18:06:39.173494Z"
    }
   },
   "outputs": [],
   "source": [
    "# lets concatinate the dummy values to the actual dataframe that we make sure the region values are in numerical representation\n",
    "insurance_df = pd.concat([insurance_df,region_dummies],axis = 1) # concatinating by column so axis = 1"
   ]
  },
  {
   "cell_type": "code",
   "execution_count": 17,
   "id": "21e6e575-9aea-4e41-b575-56b470813983",
   "metadata": {
    "execution": {
     "iopub.execute_input": "2025-10-07T18:06:47.901183Z",
     "iopub.status.busy": "2025-10-07T18:06:47.900830Z",
     "iopub.status.idle": "2025-10-07T18:06:47.917781Z",
     "shell.execute_reply": "2025-10-07T18:06:47.917064Z",
     "shell.execute_reply.started": "2025-10-07T18:06:47.901154Z"
    }
   },
   "outputs": [
    {
     "data": {
      "text/html": [
       "<div>\n",
       "<style scoped>\n",
       "    .dataframe tbody tr th:only-of-type {\n",
       "        vertical-align: middle;\n",
       "    }\n",
       "\n",
       "    .dataframe tbody tr th {\n",
       "        vertical-align: top;\n",
       "    }\n",
       "\n",
       "    .dataframe thead th {\n",
       "        text-align: right;\n",
       "    }\n",
       "</style>\n",
       "<table border=\"1\" class=\"dataframe\">\n",
       "  <thead>\n",
       "    <tr style=\"text-align: right;\">\n",
       "      <th></th>\n",
       "      <th>age</th>\n",
       "      <th>sex</th>\n",
       "      <th>bmi</th>\n",
       "      <th>children</th>\n",
       "      <th>smoker</th>\n",
       "      <th>region</th>\n",
       "      <th>charges</th>\n",
       "      <th>northwest</th>\n",
       "      <th>southeast</th>\n",
       "      <th>southwest</th>\n",
       "    </tr>\n",
       "  </thead>\n",
       "  <tbody>\n",
       "    <tr>\n",
       "      <th>0</th>\n",
       "      <td>19</td>\n",
       "      <td>0</td>\n",
       "      <td>27.900</td>\n",
       "      <td>0</td>\n",
       "      <td>1</td>\n",
       "      <td>southwest</td>\n",
       "      <td>16884.92400</td>\n",
       "      <td>0</td>\n",
       "      <td>0</td>\n",
       "      <td>1</td>\n",
       "    </tr>\n",
       "    <tr>\n",
       "      <th>1</th>\n",
       "      <td>18</td>\n",
       "      <td>1</td>\n",
       "      <td>33.770</td>\n",
       "      <td>1</td>\n",
       "      <td>0</td>\n",
       "      <td>southeast</td>\n",
       "      <td>1725.55230</td>\n",
       "      <td>0</td>\n",
       "      <td>1</td>\n",
       "      <td>0</td>\n",
       "    </tr>\n",
       "    <tr>\n",
       "      <th>2</th>\n",
       "      <td>28</td>\n",
       "      <td>1</td>\n",
       "      <td>33.000</td>\n",
       "      <td>3</td>\n",
       "      <td>0</td>\n",
       "      <td>southeast</td>\n",
       "      <td>4449.46200</td>\n",
       "      <td>0</td>\n",
       "      <td>1</td>\n",
       "      <td>0</td>\n",
       "    </tr>\n",
       "    <tr>\n",
       "      <th>3</th>\n",
       "      <td>33</td>\n",
       "      <td>1</td>\n",
       "      <td>22.705</td>\n",
       "      <td>0</td>\n",
       "      <td>0</td>\n",
       "      <td>northwest</td>\n",
       "      <td>21984.47061</td>\n",
       "      <td>1</td>\n",
       "      <td>0</td>\n",
       "      <td>0</td>\n",
       "    </tr>\n",
       "    <tr>\n",
       "      <th>4</th>\n",
       "      <td>32</td>\n",
       "      <td>1</td>\n",
       "      <td>28.880</td>\n",
       "      <td>0</td>\n",
       "      <td>0</td>\n",
       "      <td>northwest</td>\n",
       "      <td>3866.85520</td>\n",
       "      <td>1</td>\n",
       "      <td>0</td>\n",
       "      <td>0</td>\n",
       "    </tr>\n",
       "  </tbody>\n",
       "</table>\n",
       "</div>"
      ],
      "text/plain": [
       "   age  sex     bmi  children  smoker     region      charges  northwest  \\\n",
       "0   19    0  27.900         0       1  southwest  16884.92400          0   \n",
       "1   18    1  33.770         1       0  southeast   1725.55230          0   \n",
       "2   28    1  33.000         3       0  southeast   4449.46200          0   \n",
       "3   33    1  22.705         0       0  northwest  21984.47061          1   \n",
       "4   32    1  28.880         0       0  northwest   3866.85520          1   \n",
       "\n",
       "   southeast  southwest  \n",
       "0          0          1  \n",
       "1          1          0  \n",
       "2          1          0  \n",
       "3          0          0  \n",
       "4          0          0  "
      ]
     },
     "execution_count": 17,
     "metadata": {},
     "output_type": "execute_result"
    }
   ],
   "source": [
    "insurance_df.head()"
   ]
  },
  {
   "cell_type": "code",
   "execution_count": 18,
   "id": "0c48a7b1-30ba-4e7b-9e14-a7a8c62c6d7e",
   "metadata": {
    "execution": {
     "iopub.execute_input": "2025-10-07T18:07:48.134355Z",
     "iopub.status.busy": "2025-10-07T18:07:48.133821Z",
     "iopub.status.idle": "2025-10-07T18:07:48.141521Z",
     "shell.execute_reply": "2025-10-07T18:07:48.140900Z",
     "shell.execute_reply.started": "2025-10-07T18:07:48.134078Z"
    }
   },
   "outputs": [],
   "source": [
    "# now we dont need the region column so drop it\n",
    "insurance_df.drop(['region'],axis = 1,inplace = True)"
   ]
  },
  {
   "cell_type": "code",
   "execution_count": 19,
   "id": "0cc2626d-b5fb-4889-b7bf-f9c194630016",
   "metadata": {
    "execution": {
     "iopub.execute_input": "2025-10-07T18:07:55.446821Z",
     "iopub.status.busy": "2025-10-07T18:07:55.446435Z",
     "iopub.status.idle": "2025-10-07T18:07:55.463079Z",
     "shell.execute_reply": "2025-10-07T18:07:55.462281Z",
     "shell.execute_reply.started": "2025-10-07T18:07:55.446785Z"
    }
   },
   "outputs": [
    {
     "name": "stdout",
     "output_type": "stream",
     "text": [
      "<class 'pandas.core.frame.DataFrame'>\n",
      "RangeIndex: 1338 entries, 0 to 1337\n",
      "Data columns (total 9 columns):\n",
      " #   Column     Non-Null Count  Dtype  \n",
      "---  ------     --------------  -----  \n",
      " 0   age        1338 non-null   int64  \n",
      " 1   sex        1338 non-null   int64  \n",
      " 2   bmi        1338 non-null   float64\n",
      " 3   children   1338 non-null   int64  \n",
      " 4   smoker     1338 non-null   int64  \n",
      " 5   charges    1338 non-null   float64\n",
      " 6   northwest  1338 non-null   int64  \n",
      " 7   southeast  1338 non-null   int64  \n",
      " 8   southwest  1338 non-null   int64  \n",
      "dtypes: float64(2), int64(7)\n",
      "memory usage: 94.2 KB\n"
     ]
    }
   ],
   "source": [
    "insurance_df.info()"
   ]
  },
  {
   "cell_type": "code",
   "execution_count": 20,
   "id": "6f2992b8-6356-4ba0-8aa0-bc67f1d66950",
   "metadata": {
    "execution": {
     "iopub.execute_input": "2025-10-07T18:10:59.927691Z",
     "iopub.status.busy": "2025-10-07T18:10:59.927419Z",
     "iopub.status.idle": "2025-10-07T18:10:59.931481Z",
     "shell.execute_reply": "2025-10-07T18:10:59.930259Z",
     "shell.execute_reply.started": "2025-10-07T18:10:59.927666Z"
    }
   },
   "outputs": [],
   "source": [
    "# ok now everything is in numerical format\n",
    "\n",
    "# also the data has been already visualized . Can refer it in medicalInsurancePremiumPredictor"
   ]
  },
  {
   "cell_type": "markdown",
   "id": "5fef4c05-72e7-4969-beb6-68279fde4428",
   "metadata": {},
   "source": [
    "# Create Train and test data sets "
   ]
  },
  {
   "cell_type": "code",
   "execution_count": 21,
   "id": "c0b545e4-46bc-4f34-9115-cf0bb21c29ac",
   "metadata": {
    "execution": {
     "iopub.execute_input": "2025-10-07T18:11:55.411211Z",
     "iopub.status.busy": "2025-10-07T18:11:55.410761Z",
     "iopub.status.idle": "2025-10-07T18:11:55.414457Z",
     "shell.execute_reply": "2025-10-07T18:11:55.413693Z",
     "shell.execute_reply.started": "2025-10-07T18:11:55.411183Z"
    }
   },
   "outputs": [],
   "source": [
    "from sklearn.model_selection import train_test_split"
   ]
  },
  {
   "cell_type": "code",
   "execution_count": 22,
   "id": "30e1b897-fafc-4fbe-8dfc-cb00ba73155e",
   "metadata": {
    "execution": {
     "iopub.execute_input": "2025-10-07T18:12:29.820702Z",
     "iopub.status.busy": "2025-10-07T18:12:29.820280Z",
     "iopub.status.idle": "2025-10-07T18:12:29.824651Z",
     "shell.execute_reply": "2025-10-07T18:12:29.823579Z",
     "shell.execute_reply.started": "2025-10-07T18:12:29.820582Z"
    }
   },
   "outputs": [],
   "source": [
    "# out column to poredict is charges\n",
    "y = insurance_df['charges']"
   ]
  },
  {
   "cell_type": "code",
   "execution_count": 23,
   "id": "926f1b26-9e21-4eb4-96d0-8fc1ab8f18f2",
   "metadata": {
    "execution": {
     "iopub.execute_input": "2025-10-07T18:13:13.162312Z",
     "iopub.status.busy": "2025-10-07T18:13:13.161933Z",
     "iopub.status.idle": "2025-10-07T18:13:13.170488Z",
     "shell.execute_reply": "2025-10-07T18:13:13.169490Z",
     "shell.execute_reply.started": "2025-10-07T18:13:13.162279Z"
    }
   },
   "outputs": [],
   "source": [
    "# rest of the columns except the charges column are inputs\n",
    "X = insurance_df.drop(['charges'],axis = 1)"
   ]
  },
  {
   "cell_type": "code",
   "execution_count": 24,
   "id": "e68864b0-6e72-4807-8f1a-bf01a36b9124",
   "metadata": {
    "execution": {
     "iopub.execute_input": "2025-10-07T18:13:20.309563Z",
     "iopub.status.busy": "2025-10-07T18:13:20.309206Z",
     "iopub.status.idle": "2025-10-07T18:13:20.326256Z",
     "shell.execute_reply": "2025-10-07T18:13:20.325528Z",
     "shell.execute_reply.started": "2025-10-07T18:13:20.309533Z"
    }
   },
   "outputs": [
    {
     "name": "stdout",
     "output_type": "stream",
     "text": [
      "<class 'pandas.core.frame.DataFrame'>\n",
      "RangeIndex: 1338 entries, 0 to 1337\n",
      "Data columns (total 8 columns):\n",
      " #   Column     Non-Null Count  Dtype  \n",
      "---  ------     --------------  -----  \n",
      " 0   age        1338 non-null   int64  \n",
      " 1   sex        1338 non-null   int64  \n",
      " 2   bmi        1338 non-null   float64\n",
      " 3   children   1338 non-null   int64  \n",
      " 4   smoker     1338 non-null   int64  \n",
      " 5   northwest  1338 non-null   int64  \n",
      " 6   southeast  1338 non-null   int64  \n",
      " 7   southwest  1338 non-null   int64  \n",
      "dtypes: float64(1), int64(7)\n",
      "memory usage: 83.8 KB\n"
     ]
    }
   ],
   "source": [
    "X.info()"
   ]
  },
  {
   "cell_type": "code",
   "execution_count": 26,
   "id": "9b7525ce-b1c2-4716-a753-631955c9f20f",
   "metadata": {
    "execution": {
     "iopub.execute_input": "2025-10-07T18:14:37.729278Z",
     "iopub.status.busy": "2025-10-07T18:14:37.728996Z",
     "iopub.status.idle": "2025-10-07T18:14:37.736272Z",
     "shell.execute_reply": "2025-10-07T18:14:37.734503Z",
     "shell.execute_reply.started": "2025-10-07T18:14:37.729257Z"
    }
   },
   "outputs": [
    {
     "data": {
      "text/plain": [
       "pandas.core.frame.DataFrame"
      ]
     },
     "execution_count": 26,
     "metadata": {},
     "output_type": "execute_result"
    }
   ],
   "source": [
    "type(X)"
   ]
  },
  {
   "cell_type": "code",
   "execution_count": 27,
   "id": "396a9026-c5e4-4821-b112-2cf3ba06a0d5",
   "metadata": {
    "execution": {
     "iopub.execute_input": "2025-10-07T18:14:59.434059Z",
     "iopub.status.busy": "2025-10-07T18:14:59.433755Z",
     "iopub.status.idle": "2025-10-07T18:14:59.439252Z",
     "shell.execute_reply": "2025-10-07T18:14:59.438085Z",
     "shell.execute_reply.started": "2025-10-07T18:14:59.434035Z"
    }
   },
   "outputs": [],
   "source": [
    "# converting X and y to numpy arrays\n",
    "X = np.array(X).astype('float32')\n",
    "y = np.array(y).astype('float32')"
   ]
  },
  {
   "cell_type": "code",
   "execution_count": 28,
   "id": "cb7068d5-9be8-4972-a5a5-1866e2ad382a",
   "metadata": {
    "execution": {
     "iopub.execute_input": "2025-10-07T18:15:03.592187Z",
     "iopub.status.busy": "2025-10-07T18:15:03.591899Z",
     "iopub.status.idle": "2025-10-07T18:15:03.600383Z",
     "shell.execute_reply": "2025-10-07T18:15:03.598701Z",
     "shell.execute_reply.started": "2025-10-07T18:15:03.592164Z"
    }
   },
   "outputs": [
    {
     "data": {
      "text/plain": [
       "numpy.ndarray"
      ]
     },
     "execution_count": 28,
     "metadata": {},
     "output_type": "execute_result"
    }
   ],
   "source": [
    "type(X)"
   ]
  },
  {
   "cell_type": "code",
   "execution_count": 29,
   "id": "a7cbd1bf-5d14-464d-b366-ff07da10e7d1",
   "metadata": {
    "execution": {
     "iopub.execute_input": "2025-10-07T18:15:10.110534Z",
     "iopub.status.busy": "2025-10-07T18:15:10.110155Z",
     "iopub.status.idle": "2025-10-07T18:15:10.116265Z",
     "shell.execute_reply": "2025-10-07T18:15:10.115400Z",
     "shell.execute_reply.started": "2025-10-07T18:15:10.110501Z"
    }
   },
   "outputs": [
    {
     "data": {
      "text/plain": [
       "numpy.ndarray"
      ]
     },
     "execution_count": 29,
     "metadata": {},
     "output_type": "execute_result"
    }
   ],
   "source": [
    "type(y)"
   ]
  },
  {
   "cell_type": "code",
   "execution_count": 32,
   "id": "f8fedb99-6250-48be-88bb-0a58c07a740a",
   "metadata": {
    "execution": {
     "iopub.execute_input": "2025-10-07T18:20:19.946493Z",
     "iopub.status.busy": "2025-10-07T18:20:19.945780Z",
     "iopub.status.idle": "2025-10-07T18:20:19.952245Z",
     "shell.execute_reply": "2025-10-07T18:20:19.951378Z",
     "shell.execute_reply.started": "2025-10-07T18:20:19.946454Z"
    }
   },
   "outputs": [
    {
     "data": {
      "text/plain": [
       "(1338, 8)"
      ]
     },
     "execution_count": 32,
     "metadata": {},
     "output_type": "execute_result"
    }
   ],
   "source": [
    "X.shape"
   ]
  },
  {
   "cell_type": "code",
   "execution_count": 33,
   "id": "6e1965f9-2791-415d-9b39-bfa7c38308ba",
   "metadata": {
    "execution": {
     "iopub.execute_input": "2025-10-07T18:20:25.884851Z",
     "iopub.status.busy": "2025-10-07T18:20:25.884456Z",
     "iopub.status.idle": "2025-10-07T18:20:25.890536Z",
     "shell.execute_reply": "2025-10-07T18:20:25.889576Z",
     "shell.execute_reply.started": "2025-10-07T18:20:25.884816Z"
    }
   },
   "outputs": [
    {
     "data": {
      "text/plain": [
       "(1338,)"
      ]
     },
     "execution_count": 33,
     "metadata": {},
     "output_type": "execute_result"
    }
   ],
   "source": [
    "y.shape"
   ]
  },
  {
   "cell_type": "code",
   "execution_count": 34,
   "id": "63ab76b2-a400-451a-af57-5fd6f5e9f0bf",
   "metadata": {
    "execution": {
     "iopub.execute_input": "2025-10-07T18:21:09.364949Z",
     "iopub.status.busy": "2025-10-07T18:21:09.364550Z",
     "iopub.status.idle": "2025-10-07T18:21:09.372593Z",
     "shell.execute_reply": "2025-10-07T18:21:09.371506Z",
     "shell.execute_reply.started": "2025-10-07T18:21:09.364917Z"
    }
   },
   "outputs": [],
   "source": [
    "# scale the data to standard format \n",
    "from sklearn.preprocessing import StandardScaler\n",
    "\n",
    "scaler_x = StandardScaler()\n",
    "X = scaler_x.fit_transform(X)\n",
    "\n",
    "# standard sclaer takes 2d array as input so Reshape your data either using array.reshape(-1, 1) if your data has a single feature or array.reshape(1, -1) if it contains a single sample.\n",
    "# since y has single feature \n",
    "y = y.reshape(-1,1)\n",
    "scaler_y = StandardScaler()\n",
    "y = scaler_y.fit_transform(y)"
   ]
  },
  {
   "cell_type": "code",
   "execution_count": 35,
   "id": "209309e4-7be9-4fb0-90be-57c13d35282d",
   "metadata": {
    "execution": {
     "iopub.execute_input": "2025-10-07T18:22:11.693631Z",
     "iopub.status.busy": "2025-10-07T18:22:11.693342Z",
     "iopub.status.idle": "2025-10-07T18:22:11.700696Z",
     "shell.execute_reply": "2025-10-07T18:22:11.699752Z",
     "shell.execute_reply.started": "2025-10-07T18:22:11.693608Z"
    }
   },
   "outputs": [],
   "source": [
    "# test set size will be 20% of actual data\n",
    "X_train, X_test, y_train, y_test = train_test_split(X,y,test_size = 0.2)"
   ]
  },
  {
   "cell_type": "code",
   "execution_count": 36,
   "id": "eab6c3e6-01df-44ae-b38c-0a7e6ef80353",
   "metadata": {
    "execution": {
     "iopub.execute_input": "2025-10-07T18:23:07.159632Z",
     "iopub.status.busy": "2025-10-07T18:23:07.159199Z",
     "iopub.status.idle": "2025-10-07T18:23:07.168834Z",
     "shell.execute_reply": "2025-10-07T18:23:07.167811Z",
     "shell.execute_reply.started": "2025-10-07T18:23:07.159596Z"
    }
   },
   "outputs": [
    {
     "data": {
      "text/plain": [
       "(1070, 8)"
      ]
     },
     "execution_count": 36,
     "metadata": {},
     "output_type": "execute_result"
    }
   ],
   "source": [
    "# verifying if then test and train set size adds upto original data size\n",
    "X_train.shape"
   ]
  },
  {
   "cell_type": "code",
   "execution_count": 37,
   "id": "e8a08c05-64cd-4c16-9eaf-27524b11a60d",
   "metadata": {
    "execution": {
     "iopub.execute_input": "2025-10-07T18:23:12.580216Z",
     "iopub.status.busy": "2025-10-07T18:23:12.579878Z",
     "iopub.status.idle": "2025-10-07T18:23:12.586705Z",
     "shell.execute_reply": "2025-10-07T18:23:12.585902Z",
     "shell.execute_reply.started": "2025-10-07T18:23:12.580186Z"
    }
   },
   "outputs": [
    {
     "data": {
      "text/plain": [
       "(268, 8)"
      ]
     },
     "execution_count": 37,
     "metadata": {},
     "output_type": "execute_result"
    }
   ],
   "source": [
    "X_test.shape"
   ]
  },
  {
   "cell_type": "code",
   "execution_count": 38,
   "id": "efa102eb-acf4-4393-9ed8-88cdca4b09d0",
   "metadata": {
    "execution": {
     "iopub.execute_input": "2025-10-07T18:23:16.931963Z",
     "iopub.status.busy": "2025-10-07T18:23:16.931584Z",
     "iopub.status.idle": "2025-10-07T18:23:16.940548Z",
     "shell.execute_reply": "2025-10-07T18:23:16.939843Z",
     "shell.execute_reply.started": "2025-10-07T18:23:16.931930Z"
    }
   },
   "outputs": [
    {
     "data": {
      "text/plain": [
       "(1070, 1)"
      ]
     },
     "execution_count": 38,
     "metadata": {},
     "output_type": "execute_result"
    }
   ],
   "source": [
    "y_train.shape"
   ]
  },
  {
   "cell_type": "code",
   "execution_count": 39,
   "id": "2530c4e3-d107-44e8-84d7-8996f340a29d",
   "metadata": {
    "execution": {
     "iopub.execute_input": "2025-10-07T18:23:27.371890Z",
     "iopub.status.busy": "2025-10-07T18:23:27.371498Z",
     "iopub.status.idle": "2025-10-07T18:23:27.384423Z",
     "shell.execute_reply": "2025-10-07T18:23:27.383488Z",
     "shell.execute_reply.started": "2025-10-07T18:23:27.371856Z"
    }
   },
   "outputs": [
    {
     "data": {
      "text/plain": [
       "(268, 1)"
      ]
     },
     "execution_count": 39,
     "metadata": {},
     "output_type": "execute_result"
    }
   ],
   "source": [
    "y_test.shape"
   ]
  },
  {
   "cell_type": "code",
   "execution_count": 40,
   "id": "5809e85c-1e43-426f-adfc-5b7c3cd556ed",
   "metadata": {
    "execution": {
     "iopub.execute_input": "2025-10-07T18:24:17.806570Z",
     "iopub.status.busy": "2025-10-07T18:24:17.806286Z",
     "iopub.status.idle": "2025-10-07T18:24:17.810214Z",
     "shell.execute_reply": "2025-10-07T18:24:17.809440Z",
     "shell.execute_reply.started": "2025-10-07T18:24:17.806547Z"
    }
   },
   "outputs": [],
   "source": [
    "# data preparation is done . Now moving on to training a artificial neural network"
   ]
  },
  {
   "cell_type": "markdown",
   "id": "2cf1580a-608e-45d0-94fd-7311ee3fb860",
   "metadata": {},
   "source": [
    "# Artificial Neural Network Based Regression Model"
   ]
  },
  {
   "cell_type": "code",
   "execution_count": 41,
   "id": "4673e4bd-f4af-454a-8c04-675ab1b302d1",
   "metadata": {
    "execution": {
     "iopub.execute_input": "2025-10-07T18:25:04.958472Z",
     "iopub.status.busy": "2025-10-07T18:25:04.958171Z",
     "iopub.status.idle": "2025-10-07T18:25:08.173310Z",
     "shell.execute_reply": "2025-10-07T18:25:08.172016Z",
     "shell.execute_reply.started": "2025-10-07T18:25:04.958448Z"
    }
   },
   "outputs": [
    {
     "name": "stdout",
     "output_type": "stream",
     "text": [
      "Requirement already satisfied: tensorflow in /opt/conda/lib/python3.12/site-packages (2.18.0)\n",
      "Requirement already satisfied: absl-py>=1.0.0 in /opt/conda/lib/python3.12/site-packages (from tensorflow) (2.3.1)\n",
      "Requirement already satisfied: astunparse>=1.6.0 in /opt/conda/lib/python3.12/site-packages (from tensorflow) (1.6.3)\n",
      "Requirement already satisfied: flatbuffers>=24.3.25 in /opt/conda/lib/python3.12/site-packages (from tensorflow) (25.2.10)\n",
      "Requirement already satisfied: gast!=0.5.0,!=0.5.1,!=0.5.2,>=0.2.1 in /opt/conda/lib/python3.12/site-packages (from tensorflow) (0.6.0)\n",
      "Requirement already satisfied: google-pasta>=0.1.1 in /opt/conda/lib/python3.12/site-packages (from tensorflow) (0.2.0)\n",
      "Requirement already satisfied: opt-einsum>=2.3.2 in /opt/conda/lib/python3.12/site-packages (from tensorflow) (3.4.0)\n",
      "Requirement already satisfied: packaging in /opt/conda/lib/python3.12/site-packages (from tensorflow) (24.2)\n",
      "Requirement already satisfied: protobuf!=4.21.0,!=4.21.1,!=4.21.2,!=4.21.3,!=4.21.4,!=4.21.5,<6.0.0dev,>=3.20.3 in /opt/conda/lib/python3.12/site-packages (from tensorflow) (5.28.3)\n",
      "Requirement already satisfied: requests<3,>=2.21.0 in /opt/conda/lib/python3.12/site-packages (from tensorflow) (2.32.4)\n",
      "Requirement already satisfied: setuptools in /opt/conda/lib/python3.12/site-packages (from tensorflow) (80.9.0)\n",
      "Requirement already satisfied: six>=1.12.0 in /opt/conda/lib/python3.12/site-packages (from tensorflow) (1.17.0)\n",
      "Requirement already satisfied: termcolor>=1.1.0 in /opt/conda/lib/python3.12/site-packages (from tensorflow) (3.1.0)\n",
      "Requirement already satisfied: typing-extensions>=3.6.6 in /opt/conda/lib/python3.12/site-packages (from tensorflow) (4.14.1)\n",
      "Requirement already satisfied: wrapt>=1.11.0 in /opt/conda/lib/python3.12/site-packages (from tensorflow) (1.17.3)\n",
      "Requirement already satisfied: grpcio<2.0,>=1.24.3 in /opt/conda/lib/python3.12/site-packages (from tensorflow) (1.67.1)\n",
      "Requirement already satisfied: tensorboard<2.19,>=2.18 in /opt/conda/lib/python3.12/site-packages (from tensorflow) (2.18.0)\n",
      "Requirement already satisfied: keras>=3.5.0 in /opt/conda/lib/python3.12/site-packages (from tensorflow) (3.10.0)\n",
      "Requirement already satisfied: h5py>=3.11.0 in /opt/conda/lib/python3.12/site-packages (from tensorflow) (3.14.0)\n",
      "Requirement already satisfied: ml-dtypes<0.5.0,>=0.4.0 in /opt/conda/lib/python3.12/site-packages (from tensorflow) (0.4.0)\n",
      "Requirement already satisfied: numpy>1.20 in /opt/conda/lib/python3.12/site-packages (from ml-dtypes<0.5.0,>=0.4.0->tensorflow) (1.26.4)\n",
      "Requirement already satisfied: charset_normalizer<4,>=2 in /opt/conda/lib/python3.12/site-packages (from requests<3,>=2.21.0->tensorflow) (3.4.3)\n",
      "Requirement already satisfied: idna<4,>=2.5 in /opt/conda/lib/python3.12/site-packages (from requests<3,>=2.21.0->tensorflow) (3.10)\n",
      "Requirement already satisfied: urllib3<3,>=1.21.1 in /opt/conda/lib/python3.12/site-packages (from requests<3,>=2.21.0->tensorflow) (1.26.19)\n",
      "Requirement already satisfied: certifi>=2017.4.17 in /opt/conda/lib/python3.12/site-packages (from requests<3,>=2.21.0->tensorflow) (2025.8.3)\n",
      "Requirement already satisfied: markdown>=2.6.8 in /opt/conda/lib/python3.12/site-packages (from tensorboard<2.19,>=2.18->tensorflow) (3.8.2)\n",
      "Requirement already satisfied: tensorboard-data-server<0.8.0,>=0.7.0 in /opt/conda/lib/python3.12/site-packages (from tensorboard<2.19,>=2.18->tensorflow) (0.7.0)\n",
      "Requirement already satisfied: werkzeug>=1.0.1 in /opt/conda/lib/python3.12/site-packages (from tensorboard<2.19,>=2.18->tensorflow) (3.1.3)\n",
      "Requirement already satisfied: rich in /opt/conda/lib/python3.12/site-packages (from keras>=3.5.0->tensorflow) (13.9.4)\n",
      "Requirement already satisfied: namex in /opt/conda/lib/python3.12/site-packages (from keras>=3.5.0->tensorflow) (0.1.0)\n",
      "Requirement already satisfied: optree in /opt/conda/lib/python3.12/site-packages (from keras>=3.5.0->tensorflow) (0.17.0)\n",
      "Requirement already satisfied: MarkupSafe>=2.1.1 in /opt/conda/lib/python3.12/site-packages (from werkzeug>=1.0.1->tensorboard<2.19,>=2.18->tensorflow) (3.0.2)\n",
      "Requirement already satisfied: markdown-it-py>=2.2.0 in /opt/conda/lib/python3.12/site-packages (from rich->keras>=3.5.0->tensorflow) (4.0.0)\n",
      "Requirement already satisfied: pygments<3.0.0,>=2.13.0 in /opt/conda/lib/python3.12/site-packages (from rich->keras>=3.5.0->tensorflow) (2.19.2)\n",
      "Requirement already satisfied: mdurl~=0.1 in /opt/conda/lib/python3.12/site-packages (from markdown-it-py>=2.2.0->rich->keras>=3.5.0->tensorflow) (0.1.2)\n",
      "Note: you may need to restart the kernel to use updated packages.\n"
     ]
    }
   ],
   "source": [
    "pip install tensorflow"
   ]
  },
  {
   "cell_type": "code",
   "execution_count": 44,
   "id": "53da0549-d89a-43ee-9f3e-e0b07f232902",
   "metadata": {
    "execution": {
     "iopub.execute_input": "2025-10-07T18:26:52.998885Z",
     "iopub.status.busy": "2025-10-07T18:26:52.998405Z",
     "iopub.status.idle": "2025-10-07T18:26:53.002566Z",
     "shell.execute_reply": "2025-10-07T18:26:53.001714Z",
     "shell.execute_reply.started": "2025-10-07T18:26:52.998851Z"
    }
   },
   "outputs": [],
   "source": [
    "import tensorflow as tf\n",
    "from tensorflow import keras\n",
    "from tensorflow.keras.layers import Dense, Activation, Dropout, BatchNormalization\n",
    "from tensorflow.keras.optimizers import Adam"
   ]
  },
  {
   "cell_type": "code",
   "execution_count": 47,
   "id": "84c02e33-22ef-4d02-b81a-bbbc0c4f14e8",
   "metadata": {
    "execution": {
     "iopub.execute_input": "2025-10-07T18:32:21.569281Z",
     "iopub.status.busy": "2025-10-07T18:32:21.568881Z",
     "iopub.status.idle": "2025-10-07T18:32:21.574761Z",
     "shell.execute_reply": "2025-10-07T18:32:21.574042Z",
     "shell.execute_reply.started": "2025-10-07T18:32:21.569246Z"
    }
   },
   "outputs": [
    {
     "data": {
      "text/plain": [
       "8"
      ]
     },
     "execution_count": 47,
     "metadata": {},
     "output_type": "execute_result"
    }
   ],
   "source": [
    "# number of input features is \n",
    "X.shape[1]"
   ]
  },
  {
   "cell_type": "code",
   "execution_count": 48,
   "id": "d06aca7c-3670-4189-9188-96e9878919e6",
   "metadata": {
    "execution": {
     "iopub.execute_input": "2025-10-07T18:39:12.007425Z",
     "iopub.status.busy": "2025-10-07T18:39:12.007079Z",
     "iopub.status.idle": "2025-10-07T18:39:12.391748Z",
     "shell.execute_reply": "2025-10-07T18:39:12.390772Z",
     "shell.execute_reply.started": "2025-10-07T18:39:12.007392Z"
    }
   },
   "outputs": [
    {
     "name": "stderr",
     "output_type": "stream",
     "text": [
      "/opt/conda/lib/python3.12/site-packages/keras/src/layers/core/dense.py:93: UserWarning: Do not pass an `input_shape`/`input_dim` argument to a layer. When using Sequential models, prefer using an `Input(shape)` object as the first layer in the model instead.\n",
      "  super().__init__(activity_regularizer=activity_regularizer, **kwargs)\n"
     ]
    },
    {
     "data": {
      "text/html": [
       "<pre style=\"white-space:pre;overflow-x:auto;line-height:normal;font-family:Menlo,'DejaVu Sans Mono',consolas,'Courier New',monospace\"><span style=\"font-weight: bold\">Model: \"sequential\"</span>\n",
       "</pre>\n"
      ],
      "text/plain": [
       "\u001b[1mModel: \"sequential\"\u001b[0m\n"
      ]
     },
     "metadata": {},
     "output_type": "display_data"
    },
    {
     "data": {
      "text/html": [
       "<pre style=\"white-space:pre;overflow-x:auto;line-height:normal;font-family:Menlo,'DejaVu Sans Mono',consolas,'Courier New',monospace\">┏━━━━━━━━━━━━━━━━━━━━━━━━━━━━━━━━━┳━━━━━━━━━━━━━━━━━━━━━━━━┳━━━━━━━━━━━━━━━┓\n",
       "┃<span style=\"font-weight: bold\"> Layer (type)                    </span>┃<span style=\"font-weight: bold\"> Output Shape           </span>┃<span style=\"font-weight: bold\">       Param # </span>┃\n",
       "┡━━━━━━━━━━━━━━━━━━━━━━━━━━━━━━━━━╇━━━━━━━━━━━━━━━━━━━━━━━━╇━━━━━━━━━━━━━━━┩\n",
       "│ dense (<span style=\"color: #0087ff; text-decoration-color: #0087ff\">Dense</span>)                   │ (<span style=\"color: #00d7ff; text-decoration-color: #00d7ff\">None</span>, <span style=\"color: #00af00; text-decoration-color: #00af00\">50</span>)             │           <span style=\"color: #00af00; text-decoration-color: #00af00\">450</span> │\n",
       "├─────────────────────────────────┼────────────────────────┼───────────────┤\n",
       "│ activation (<span style=\"color: #0087ff; text-decoration-color: #0087ff\">Activation</span>)         │ (<span style=\"color: #00d7ff; text-decoration-color: #00d7ff\">None</span>, <span style=\"color: #00af00; text-decoration-color: #00af00\">50</span>)             │             <span style=\"color: #00af00; text-decoration-color: #00af00\">0</span> │\n",
       "├─────────────────────────────────┼────────────────────────┼───────────────┤\n",
       "│ dense_1 (<span style=\"color: #0087ff; text-decoration-color: #0087ff\">Dense</span>)                 │ (<span style=\"color: #00d7ff; text-decoration-color: #00d7ff\">None</span>, <span style=\"color: #00af00; text-decoration-color: #00af00\">150</span>)            │         <span style=\"color: #00af00; text-decoration-color: #00af00\">7,650</span> │\n",
       "├─────────────────────────────────┼────────────────────────┼───────────────┤\n",
       "│ activation_1 (<span style=\"color: #0087ff; text-decoration-color: #0087ff\">Activation</span>)       │ (<span style=\"color: #00d7ff; text-decoration-color: #00d7ff\">None</span>, <span style=\"color: #00af00; text-decoration-color: #00af00\">150</span>)            │             <span style=\"color: #00af00; text-decoration-color: #00af00\">0</span> │\n",
       "├─────────────────────────────────┼────────────────────────┼───────────────┤\n",
       "│ dropout (<span style=\"color: #0087ff; text-decoration-color: #0087ff\">Dropout</span>)               │ (<span style=\"color: #00d7ff; text-decoration-color: #00d7ff\">None</span>, <span style=\"color: #00af00; text-decoration-color: #00af00\">150</span>)            │             <span style=\"color: #00af00; text-decoration-color: #00af00\">0</span> │\n",
       "├─────────────────────────────────┼────────────────────────┼───────────────┤\n",
       "│ dense_2 (<span style=\"color: #0087ff; text-decoration-color: #0087ff\">Dense</span>)                 │ (<span style=\"color: #00d7ff; text-decoration-color: #00d7ff\">None</span>, <span style=\"color: #00af00; text-decoration-color: #00af00\">150</span>)            │        <span style=\"color: #00af00; text-decoration-color: #00af00\">22,650</span> │\n",
       "├─────────────────────────────────┼────────────────────────┼───────────────┤\n",
       "│ activation_2 (<span style=\"color: #0087ff; text-decoration-color: #0087ff\">Activation</span>)       │ (<span style=\"color: #00d7ff; text-decoration-color: #00d7ff\">None</span>, <span style=\"color: #00af00; text-decoration-color: #00af00\">150</span>)            │             <span style=\"color: #00af00; text-decoration-color: #00af00\">0</span> │\n",
       "├─────────────────────────────────┼────────────────────────┼───────────────┤\n",
       "│ dropout_1 (<span style=\"color: #0087ff; text-decoration-color: #0087ff\">Dropout</span>)             │ (<span style=\"color: #00d7ff; text-decoration-color: #00d7ff\">None</span>, <span style=\"color: #00af00; text-decoration-color: #00af00\">150</span>)            │             <span style=\"color: #00af00; text-decoration-color: #00af00\">0</span> │\n",
       "├─────────────────────────────────┼────────────────────────┼───────────────┤\n",
       "│ dense_3 (<span style=\"color: #0087ff; text-decoration-color: #0087ff\">Dense</span>)                 │ (<span style=\"color: #00d7ff; text-decoration-color: #00d7ff\">None</span>, <span style=\"color: #00af00; text-decoration-color: #00af00\">50</span>)             │         <span style=\"color: #00af00; text-decoration-color: #00af00\">7,550</span> │\n",
       "├─────────────────────────────────┼────────────────────────┼───────────────┤\n",
       "│ activation_3 (<span style=\"color: #0087ff; text-decoration-color: #0087ff\">Activation</span>)       │ (<span style=\"color: #00d7ff; text-decoration-color: #00d7ff\">None</span>, <span style=\"color: #00af00; text-decoration-color: #00af00\">50</span>)             │             <span style=\"color: #00af00; text-decoration-color: #00af00\">0</span> │\n",
       "├─────────────────────────────────┼────────────────────────┼───────────────┤\n",
       "│ dense_4 (<span style=\"color: #0087ff; text-decoration-color: #0087ff\">Dense</span>)                 │ (<span style=\"color: #00d7ff; text-decoration-color: #00d7ff\">None</span>, <span style=\"color: #00af00; text-decoration-color: #00af00\">1</span>)              │            <span style=\"color: #00af00; text-decoration-color: #00af00\">51</span> │\n",
       "└─────────────────────────────────┴────────────────────────┴───────────────┘\n",
       "</pre>\n"
      ],
      "text/plain": [
       "┏━━━━━━━━━━━━━━━━━━━━━━━━━━━━━━━━━┳━━━━━━━━━━━━━━━━━━━━━━━━┳━━━━━━━━━━━━━━━┓\n",
       "┃\u001b[1m \u001b[0m\u001b[1mLayer (type)                   \u001b[0m\u001b[1m \u001b[0m┃\u001b[1m \u001b[0m\u001b[1mOutput Shape          \u001b[0m\u001b[1m \u001b[0m┃\u001b[1m \u001b[0m\u001b[1m      Param #\u001b[0m\u001b[1m \u001b[0m┃\n",
       "┡━━━━━━━━━━━━━━━━━━━━━━━━━━━━━━━━━╇━━━━━━━━━━━━━━━━━━━━━━━━╇━━━━━━━━━━━━━━━┩\n",
       "│ dense (\u001b[38;5;33mDense\u001b[0m)                   │ (\u001b[38;5;45mNone\u001b[0m, \u001b[38;5;34m50\u001b[0m)             │           \u001b[38;5;34m450\u001b[0m │\n",
       "├─────────────────────────────────┼────────────────────────┼───────────────┤\n",
       "│ activation (\u001b[38;5;33mActivation\u001b[0m)         │ (\u001b[38;5;45mNone\u001b[0m, \u001b[38;5;34m50\u001b[0m)             │             \u001b[38;5;34m0\u001b[0m │\n",
       "├─────────────────────────────────┼────────────────────────┼───────────────┤\n",
       "│ dense_1 (\u001b[38;5;33mDense\u001b[0m)                 │ (\u001b[38;5;45mNone\u001b[0m, \u001b[38;5;34m150\u001b[0m)            │         \u001b[38;5;34m7,650\u001b[0m │\n",
       "├─────────────────────────────────┼────────────────────────┼───────────────┤\n",
       "│ activation_1 (\u001b[38;5;33mActivation\u001b[0m)       │ (\u001b[38;5;45mNone\u001b[0m, \u001b[38;5;34m150\u001b[0m)            │             \u001b[38;5;34m0\u001b[0m │\n",
       "├─────────────────────────────────┼────────────────────────┼───────────────┤\n",
       "│ dropout (\u001b[38;5;33mDropout\u001b[0m)               │ (\u001b[38;5;45mNone\u001b[0m, \u001b[38;5;34m150\u001b[0m)            │             \u001b[38;5;34m0\u001b[0m │\n",
       "├─────────────────────────────────┼────────────────────────┼───────────────┤\n",
       "│ dense_2 (\u001b[38;5;33mDense\u001b[0m)                 │ (\u001b[38;5;45mNone\u001b[0m, \u001b[38;5;34m150\u001b[0m)            │        \u001b[38;5;34m22,650\u001b[0m │\n",
       "├─────────────────────────────────┼────────────────────────┼───────────────┤\n",
       "│ activation_2 (\u001b[38;5;33mActivation\u001b[0m)       │ (\u001b[38;5;45mNone\u001b[0m, \u001b[38;5;34m150\u001b[0m)            │             \u001b[38;5;34m0\u001b[0m │\n",
       "├─────────────────────────────────┼────────────────────────┼───────────────┤\n",
       "│ dropout_1 (\u001b[38;5;33mDropout\u001b[0m)             │ (\u001b[38;5;45mNone\u001b[0m, \u001b[38;5;34m150\u001b[0m)            │             \u001b[38;5;34m0\u001b[0m │\n",
       "├─────────────────────────────────┼────────────────────────┼───────────────┤\n",
       "│ dense_3 (\u001b[38;5;33mDense\u001b[0m)                 │ (\u001b[38;5;45mNone\u001b[0m, \u001b[38;5;34m50\u001b[0m)             │         \u001b[38;5;34m7,550\u001b[0m │\n",
       "├─────────────────────────────────┼────────────────────────┼───────────────┤\n",
       "│ activation_3 (\u001b[38;5;33mActivation\u001b[0m)       │ (\u001b[38;5;45mNone\u001b[0m, \u001b[38;5;34m50\u001b[0m)             │             \u001b[38;5;34m0\u001b[0m │\n",
       "├─────────────────────────────────┼────────────────────────┼───────────────┤\n",
       "│ dense_4 (\u001b[38;5;33mDense\u001b[0m)                 │ (\u001b[38;5;45mNone\u001b[0m, \u001b[38;5;34m1\u001b[0m)              │            \u001b[38;5;34m51\u001b[0m │\n",
       "└─────────────────────────────────┴────────────────────────┴───────────────┘\n"
      ]
     },
     "metadata": {},
     "output_type": "display_data"
    },
    {
     "data": {
      "text/html": [
       "<pre style=\"white-space:pre;overflow-x:auto;line-height:normal;font-family:Menlo,'DejaVu Sans Mono',consolas,'Courier New',monospace\"><span style=\"font-weight: bold\"> Total params: </span><span style=\"color: #00af00; text-decoration-color: #00af00\">38,351</span> (149.81 KB)\n",
       "</pre>\n"
      ],
      "text/plain": [
       "\u001b[1m Total params: \u001b[0m\u001b[38;5;34m38,351\u001b[0m (149.81 KB)\n"
      ]
     },
     "metadata": {},
     "output_type": "display_data"
    },
    {
     "data": {
      "text/html": [
       "<pre style=\"white-space:pre;overflow-x:auto;line-height:normal;font-family:Menlo,'DejaVu Sans Mono',consolas,'Courier New',monospace\"><span style=\"font-weight: bold\"> Trainable params: </span><span style=\"color: #00af00; text-decoration-color: #00af00\">38,351</span> (149.81 KB)\n",
       "</pre>\n"
      ],
      "text/plain": [
       "\u001b[1m Trainable params: \u001b[0m\u001b[38;5;34m38,351\u001b[0m (149.81 KB)\n"
      ]
     },
     "metadata": {},
     "output_type": "display_data"
    },
    {
     "data": {
      "text/html": [
       "<pre style=\"white-space:pre;overflow-x:auto;line-height:normal;font-family:Menlo,'DejaVu Sans Mono',consolas,'Courier New',monospace\"><span style=\"font-weight: bold\"> Non-trainable params: </span><span style=\"color: #00af00; text-decoration-color: #00af00\">0</span> (0.00 B)\n",
       "</pre>\n"
      ],
      "text/plain": [
       "\u001b[1m Non-trainable params: \u001b[0m\u001b[38;5;34m0\u001b[0m (0.00 B)\n"
      ]
     },
     "metadata": {},
     "output_type": "display_data"
    }
   ],
   "source": [
    "# here we will build dense neural network where every neron will connected to eaxh other\n",
    "# drop out to make sure network is not overfitting the training data\n",
    "# we use relu activation function\n",
    "# Adam optimizer is used to train model\n",
    "ANN_model = keras.Sequential() # neural network here is in sequential fashion. input from one layer passed to next layer\n",
    "ANN_model.add(Dense(50,input_dim = 8)) # 50 neurons with input of 8 features \n",
    "ANN_model.add(Activation('relu'))\n",
    "# next layer with 150 neurons\n",
    "ANN_model.add(Dense(150))\n",
    "ANN_model.add(Activation('relu'))\n",
    "ANN_model.add(Dropout(0.25)) #25% neurons aare dropped out\n",
    "\n",
    "# next layer \n",
    "ANN_model.add(Dense(150))\n",
    "ANN_model.add(Activation('relu'))\n",
    "ANN_model.add(Dropout(0.25))\n",
    "\n",
    "# next layer \n",
    "ANN_model.add(Dense(50))\n",
    "ANN_model.add(Activation('linear'))  # we are predicting a regression value so the activation function used is linear\n",
    "\n",
    "# last layer\n",
    "ANN_model.add(Dense(1))\n",
    "\n",
    "# Compile the model\n",
    "ANN_model.compile(loss = 'mse', optimizer='adam')\n",
    "\n",
    "# get summary of the model\n",
    "ANN_model.summary()"
   ]
  },
  {
   "cell_type": "code",
   "execution_count": 49,
   "id": "66c0cbc8-d417-4199-8d0b-08147015aa13",
   "metadata": {
    "execution": {
     "iopub.execute_input": "2025-10-07T18:47:07.200735Z",
     "iopub.status.busy": "2025-10-07T18:47:07.200433Z",
     "iopub.status.idle": "2025-10-07T18:47:34.338604Z",
     "shell.execute_reply": "2025-10-07T18:47:34.337947Z",
     "shell.execute_reply.started": "2025-10-07T18:47:07.200709Z"
    }
   },
   "outputs": [
    {
     "name": "stdout",
     "output_type": "stream",
     "text": [
      "Epoch 1/100\n",
      "\u001b[1m43/43\u001b[0m \u001b[32m━━━━━━━━━━━━━━━━━━━━\u001b[0m\u001b[37m\u001b[0m \u001b[1m2s\u001b[0m 8ms/step - loss: 0.7160 - val_loss: 0.2658\n",
      "Epoch 2/100\n",
      "\u001b[1m43/43\u001b[0m \u001b[32m━━━━━━━━━━━━━━━━━━━━\u001b[0m\u001b[37m\u001b[0m \u001b[1m0s\u001b[0m 4ms/step - loss: 0.2814 - val_loss: 0.2380\n",
      "Epoch 3/100\n",
      "\u001b[1m43/43\u001b[0m \u001b[32m━━━━━━━━━━━━━━━━━━━━\u001b[0m\u001b[37m\u001b[0m \u001b[1m0s\u001b[0m 5ms/step - loss: 0.2218 - val_loss: 0.1752\n",
      "Epoch 4/100\n",
      "\u001b[1m43/43\u001b[0m \u001b[32m━━━━━━━━━━━━━━━━━━━━\u001b[0m\u001b[37m\u001b[0m \u001b[1m0s\u001b[0m 5ms/step - loss: 0.1982 - val_loss: 0.1621\n",
      "Epoch 5/100\n",
      "\u001b[1m43/43\u001b[0m \u001b[32m━━━━━━━━━━━━━━━━━━━━\u001b[0m\u001b[37m\u001b[0m \u001b[1m0s\u001b[0m 5ms/step - loss: 0.1772 - val_loss: 0.1619\n",
      "Epoch 6/100\n",
      "\u001b[1m43/43\u001b[0m \u001b[32m━━━━━━━━━━━━━━━━━━━━\u001b[0m\u001b[37m\u001b[0m \u001b[1m0s\u001b[0m 4ms/step - loss: 0.1967 - val_loss: 0.1702\n",
      "Epoch 7/100\n",
      "\u001b[1m43/43\u001b[0m \u001b[32m━━━━━━━━━━━━━━━━━━━━\u001b[0m\u001b[37m\u001b[0m \u001b[1m0s\u001b[0m 7ms/step - loss: 0.1683 - val_loss: 0.1500\n",
      "Epoch 8/100\n",
      "\u001b[1m43/43\u001b[0m \u001b[32m━━━━━━━━━━━━━━━━━━━━\u001b[0m\u001b[37m\u001b[0m \u001b[1m1s\u001b[0m 6ms/step - loss: 0.2034 - val_loss: 0.1691\n",
      "Epoch 9/100\n",
      "\u001b[1m43/43\u001b[0m \u001b[32m━━━━━━━━━━━━━━━━━━━━\u001b[0m\u001b[37m\u001b[0m \u001b[1m0s\u001b[0m 5ms/step - loss: 0.1575 - val_loss: 0.1558\n",
      "Epoch 10/100\n",
      "\u001b[1m43/43\u001b[0m \u001b[32m━━━━━━━━━━━━━━━━━━━━\u001b[0m\u001b[37m\u001b[0m \u001b[1m0s\u001b[0m 4ms/step - loss: 0.1951 - val_loss: 0.1659\n",
      "Epoch 11/100\n",
      "\u001b[1m43/43\u001b[0m \u001b[32m━━━━━━━━━━━━━━━━━━━━\u001b[0m\u001b[37m\u001b[0m \u001b[1m0s\u001b[0m 5ms/step - loss: 0.1480 - val_loss: 0.1717\n",
      "Epoch 12/100\n",
      "\u001b[1m43/43\u001b[0m \u001b[32m━━━━━━━━━━━━━━━━━━━━\u001b[0m\u001b[37m\u001b[0m \u001b[1m0s\u001b[0m 4ms/step - loss: 0.1883 - val_loss: 0.1884\n",
      "Epoch 13/100\n",
      "\u001b[1m43/43\u001b[0m \u001b[32m━━━━━━━━━━━━━━━━━━━━\u001b[0m\u001b[37m\u001b[0m \u001b[1m0s\u001b[0m 5ms/step - loss: 0.1942 - val_loss: 0.1530\n",
      "Epoch 14/100\n",
      "\u001b[1m43/43\u001b[0m \u001b[32m━━━━━━━━━━━━━━━━━━━━\u001b[0m\u001b[37m\u001b[0m \u001b[1m0s\u001b[0m 5ms/step - loss: 0.1519 - val_loss: 0.1552\n",
      "Epoch 15/100\n",
      "\u001b[1m43/43\u001b[0m \u001b[32m━━━━━━━━━━━━━━━━━━━━\u001b[0m\u001b[37m\u001b[0m \u001b[1m0s\u001b[0m 4ms/step - loss: 0.1526 - val_loss: 0.1645\n",
      "Epoch 16/100\n",
      "\u001b[1m43/43\u001b[0m \u001b[32m━━━━━━━━━━━━━━━━━━━━\u001b[0m\u001b[37m\u001b[0m \u001b[1m0s\u001b[0m 4ms/step - loss: 0.1654 - val_loss: 0.1619\n",
      "Epoch 17/100\n",
      "\u001b[1m43/43\u001b[0m \u001b[32m━━━━━━━━━━━━━━━━━━━━\u001b[0m\u001b[37m\u001b[0m \u001b[1m0s\u001b[0m 4ms/step - loss: 0.1518 - val_loss: 0.1665\n",
      "Epoch 18/100\n",
      "\u001b[1m43/43\u001b[0m \u001b[32m━━━━━━━━━━━━━━━━━━━━\u001b[0m\u001b[37m\u001b[0m \u001b[1m0s\u001b[0m 4ms/step - loss: 0.1545 - val_loss: 0.1565\n",
      "Epoch 19/100\n",
      "\u001b[1m43/43\u001b[0m \u001b[32m━━━━━━━━━━━━━━━━━━━━\u001b[0m\u001b[37m\u001b[0m \u001b[1m0s\u001b[0m 4ms/step - loss: 0.1402 - val_loss: 0.1587\n",
      "Epoch 20/100\n",
      "\u001b[1m43/43\u001b[0m \u001b[32m━━━━━━━━━━━━━━━━━━━━\u001b[0m\u001b[37m\u001b[0m \u001b[1m0s\u001b[0m 4ms/step - loss: 0.1204 - val_loss: 0.1585\n",
      "Epoch 21/100\n",
      "\u001b[1m43/43\u001b[0m \u001b[32m━━━━━━━━━━━━━━━━━━━━\u001b[0m\u001b[37m\u001b[0m \u001b[1m0s\u001b[0m 4ms/step - loss: 0.1562 - val_loss: 0.1529\n",
      "Epoch 22/100\n",
      "\u001b[1m43/43\u001b[0m \u001b[32m━━━━━━━━━━━━━━━━━━━━\u001b[0m\u001b[37m\u001b[0m \u001b[1m0s\u001b[0m 4ms/step - loss: 0.1223 - val_loss: 0.1585\n",
      "Epoch 23/100\n",
      "\u001b[1m43/43\u001b[0m \u001b[32m━━━━━━━━━━━━━━━━━━━━\u001b[0m\u001b[37m\u001b[0m \u001b[1m0s\u001b[0m 5ms/step - loss: 0.1424 - val_loss: 0.1559\n",
      "Epoch 24/100\n",
      "\u001b[1m43/43\u001b[0m \u001b[32m━━━━━━━━━━━━━━━━━━━━\u001b[0m\u001b[37m\u001b[0m \u001b[1m0s\u001b[0m 4ms/step - loss: 0.1298 - val_loss: 0.1556\n",
      "Epoch 25/100\n",
      "\u001b[1m43/43\u001b[0m \u001b[32m━━━━━━━━━━━━━━━━━━━━\u001b[0m\u001b[37m\u001b[0m \u001b[1m0s\u001b[0m 4ms/step - loss: 0.1314 - val_loss: 0.1678\n",
      "Epoch 26/100\n",
      "\u001b[1m43/43\u001b[0m \u001b[32m━━━━━━━━━━━━━━━━━━━━\u001b[0m\u001b[37m\u001b[0m \u001b[1m0s\u001b[0m 4ms/step - loss: 0.1400 - val_loss: 0.1666\n",
      "Epoch 27/100\n",
      "\u001b[1m43/43\u001b[0m \u001b[32m━━━━━━━━━━━━━━━━━━━━\u001b[0m\u001b[37m\u001b[0m \u001b[1m0s\u001b[0m 4ms/step - loss: 0.1676 - val_loss: 0.1523\n",
      "Epoch 28/100\n",
      "\u001b[1m43/43\u001b[0m \u001b[32m━━━━━━━━━━━━━━━━━━━━\u001b[0m\u001b[37m\u001b[0m \u001b[1m0s\u001b[0m 5ms/step - loss: 0.1298 - val_loss: 0.1556\n",
      "Epoch 29/100\n",
      "\u001b[1m43/43\u001b[0m \u001b[32m━━━━━━━━━━━━━━━━━━━━\u001b[0m\u001b[37m\u001b[0m \u001b[1m0s\u001b[0m 4ms/step - loss: 0.1507 - val_loss: 0.1614\n",
      "Epoch 30/100\n",
      "\u001b[1m43/43\u001b[0m \u001b[32m━━━━━━━━━━━━━━━━━━━━\u001b[0m\u001b[37m\u001b[0m \u001b[1m0s\u001b[0m 5ms/step - loss: 0.1593 - val_loss: 0.1556\n",
      "Epoch 31/100\n",
      "\u001b[1m43/43\u001b[0m \u001b[32m━━━━━━━━━━━━━━━━━━━━\u001b[0m\u001b[37m\u001b[0m \u001b[1m0s\u001b[0m 5ms/step - loss: 0.1373 - val_loss: 0.1618\n",
      "Epoch 32/100\n",
      "\u001b[1m43/43\u001b[0m \u001b[32m━━━━━━━━━━━━━━━━━━━━\u001b[0m\u001b[37m\u001b[0m \u001b[1m0s\u001b[0m 5ms/step - loss: 0.1526 - val_loss: 0.1522\n",
      "Epoch 33/100\n",
      "\u001b[1m43/43\u001b[0m \u001b[32m━━━━━━━━━━━━━━━━━━━━\u001b[0m\u001b[37m\u001b[0m \u001b[1m0s\u001b[0m 5ms/step - loss: 0.1284 - val_loss: 0.1568\n",
      "Epoch 34/100\n",
      "\u001b[1m43/43\u001b[0m \u001b[32m━━━━━━━━━━━━━━━━━━━━\u001b[0m\u001b[37m\u001b[0m \u001b[1m0s\u001b[0m 5ms/step - loss: 0.1195 - val_loss: 0.1549\n",
      "Epoch 35/100\n",
      "\u001b[1m43/43\u001b[0m \u001b[32m━━━━━━━━━━━━━━━━━━━━\u001b[0m\u001b[37m\u001b[0m \u001b[1m0s\u001b[0m 4ms/step - loss: 0.1200 - val_loss: 0.1815\n",
      "Epoch 36/100\n",
      "\u001b[1m43/43\u001b[0m \u001b[32m━━━━━━━━━━━━━━━━━━━━\u001b[0m\u001b[37m\u001b[0m \u001b[1m0s\u001b[0m 4ms/step - loss: 0.1164 - val_loss: 0.1584\n",
      "Epoch 37/100\n",
      "\u001b[1m43/43\u001b[0m \u001b[32m━━━━━━━━━━━━━━━━━━━━\u001b[0m\u001b[37m\u001b[0m \u001b[1m0s\u001b[0m 4ms/step - loss: 0.1266 - val_loss: 0.1580\n",
      "Epoch 38/100\n",
      "\u001b[1m43/43\u001b[0m \u001b[32m━━━━━━━━━━━━━━━━━━━━\u001b[0m\u001b[37m\u001b[0m \u001b[1m0s\u001b[0m 6ms/step - loss: 0.1216 - val_loss: 0.1865\n",
      "Epoch 39/100\n",
      "\u001b[1m43/43\u001b[0m \u001b[32m━━━━━━━━━━━━━━━━━━━━\u001b[0m\u001b[37m\u001b[0m \u001b[1m0s\u001b[0m 4ms/step - loss: 0.1303 - val_loss: 0.1720\n",
      "Epoch 40/100\n",
      "\u001b[1m43/43\u001b[0m \u001b[32m━━━━━━━━━━━━━━━━━━━━\u001b[0m\u001b[37m\u001b[0m \u001b[1m0s\u001b[0m 5ms/step - loss: 0.1249 - val_loss: 0.1510\n",
      "Epoch 41/100\n",
      "\u001b[1m43/43\u001b[0m \u001b[32m━━━━━━━━━━━━━━━━━━━━\u001b[0m\u001b[37m\u001b[0m \u001b[1m0s\u001b[0m 6ms/step - loss: 0.1488 - val_loss: 0.1561\n",
      "Epoch 42/100\n",
      "\u001b[1m43/43\u001b[0m \u001b[32m━━━━━━━━━━━━━━━━━━━━\u001b[0m\u001b[37m\u001b[0m \u001b[1m0s\u001b[0m 5ms/step - loss: 0.1347 - val_loss: 0.1567\n",
      "Epoch 43/100\n",
      "\u001b[1m43/43\u001b[0m \u001b[32m━━━━━━━━━━━━━━━━━━━━\u001b[0m\u001b[37m\u001b[0m \u001b[1m0s\u001b[0m 5ms/step - loss: 0.1280 - val_loss: 0.1573\n",
      "Epoch 44/100\n",
      "\u001b[1m43/43\u001b[0m \u001b[32m━━━━━━━━━━━━━━━━━━━━\u001b[0m\u001b[37m\u001b[0m \u001b[1m0s\u001b[0m 6ms/step - loss: 0.1172 - val_loss: 0.1598\n",
      "Epoch 45/100\n",
      "\u001b[1m43/43\u001b[0m \u001b[32m━━━━━━━━━━━━━━━━━━━━\u001b[0m\u001b[37m\u001b[0m \u001b[1m0s\u001b[0m 4ms/step - loss: 0.1211 - val_loss: 0.1710\n",
      "Epoch 46/100\n",
      "\u001b[1m43/43\u001b[0m \u001b[32m━━━━━━━━━━━━━━━━━━━━\u001b[0m\u001b[37m\u001b[0m \u001b[1m0s\u001b[0m 4ms/step - loss: 0.1384 - val_loss: 0.1599\n",
      "Epoch 47/100\n",
      "\u001b[1m43/43\u001b[0m \u001b[32m━━━━━━━━━━━━━━━━━━━━\u001b[0m\u001b[37m\u001b[0m \u001b[1m0s\u001b[0m 5ms/step - loss: 0.1179 - val_loss: 0.1543\n",
      "Epoch 48/100\n",
      "\u001b[1m43/43\u001b[0m \u001b[32m━━━━━━━━━━━━━━━━━━━━\u001b[0m\u001b[37m\u001b[0m \u001b[1m0s\u001b[0m 4ms/step - loss: 0.1172 - val_loss: 0.1562\n",
      "Epoch 49/100\n",
      "\u001b[1m43/43\u001b[0m \u001b[32m━━━━━━━━━━━━━━━━━━━━\u001b[0m\u001b[37m\u001b[0m \u001b[1m0s\u001b[0m 4ms/step - loss: 0.1244 - val_loss: 0.1600\n",
      "Epoch 50/100\n",
      "\u001b[1m43/43\u001b[0m \u001b[32m━━━━━━━━━━━━━━━━━━━━\u001b[0m\u001b[37m\u001b[0m \u001b[1m0s\u001b[0m 4ms/step - loss: 0.1132 - val_loss: 0.1613\n",
      "Epoch 51/100\n",
      "\u001b[1m43/43\u001b[0m \u001b[32m━━━━━━━━━━━━━━━━━━━━\u001b[0m\u001b[37m\u001b[0m \u001b[1m0s\u001b[0m 4ms/step - loss: 0.1059 - val_loss: 0.1671\n",
      "Epoch 52/100\n",
      "\u001b[1m43/43\u001b[0m \u001b[32m━━━━━━━━━━━━━━━━━━━━\u001b[0m\u001b[37m\u001b[0m \u001b[1m0s\u001b[0m 5ms/step - loss: 0.1038 - val_loss: 0.1638\n",
      "Epoch 53/100\n",
      "\u001b[1m43/43\u001b[0m \u001b[32m━━━━━━━━━━━━━━━━━━━━\u001b[0m\u001b[37m\u001b[0m \u001b[1m0s\u001b[0m 6ms/step - loss: 0.1024 - val_loss: 0.1721\n",
      "Epoch 54/100\n",
      "\u001b[1m43/43\u001b[0m \u001b[32m━━━━━━━━━━━━━━━━━━━━\u001b[0m\u001b[37m\u001b[0m \u001b[1m0s\u001b[0m 4ms/step - loss: 0.1078 - val_loss: 0.1541\n",
      "Epoch 55/100\n",
      "\u001b[1m43/43\u001b[0m \u001b[32m━━━━━━━━━━━━━━━━━━━━\u001b[0m\u001b[37m\u001b[0m \u001b[1m0s\u001b[0m 4ms/step - loss: 0.1132 - val_loss: 0.1535\n",
      "Epoch 56/100\n",
      "\u001b[1m43/43\u001b[0m \u001b[32m━━━━━━━━━━━━━━━━━━━━\u001b[0m\u001b[37m\u001b[0m \u001b[1m0s\u001b[0m 5ms/step - loss: 0.1026 - val_loss: 0.1563\n",
      "Epoch 57/100\n",
      "\u001b[1m43/43\u001b[0m \u001b[32m━━━━━━━━━━━━━━━━━━━━\u001b[0m\u001b[37m\u001b[0m \u001b[1m0s\u001b[0m 4ms/step - loss: 0.1138 - val_loss: 0.1527\n",
      "Epoch 58/100\n",
      "\u001b[1m43/43\u001b[0m \u001b[32m━━━━━━━━━━━━━━━━━━━━\u001b[0m\u001b[37m\u001b[0m \u001b[1m0s\u001b[0m 5ms/step - loss: 0.1214 - val_loss: 0.1660\n",
      "Epoch 59/100\n",
      "\u001b[1m43/43\u001b[0m \u001b[32m━━━━━━━━━━━━━━━━━━━━\u001b[0m\u001b[37m\u001b[0m \u001b[1m0s\u001b[0m 4ms/step - loss: 0.1097 - val_loss: 0.1689\n",
      "Epoch 60/100\n",
      "\u001b[1m43/43\u001b[0m \u001b[32m━━━━━━━━━━━━━━━━━━━━\u001b[0m\u001b[37m\u001b[0m \u001b[1m0s\u001b[0m 5ms/step - loss: 0.1074 - val_loss: 0.1608\n",
      "Epoch 61/100\n",
      "\u001b[1m43/43\u001b[0m \u001b[32m━━━━━━━━━━━━━━━━━━━━\u001b[0m\u001b[37m\u001b[0m \u001b[1m0s\u001b[0m 5ms/step - loss: 0.1205 - val_loss: 0.1682\n",
      "Epoch 62/100\n",
      "\u001b[1m43/43\u001b[0m \u001b[32m━━━━━━━━━━━━━━━━━━━━\u001b[0m\u001b[37m\u001b[0m \u001b[1m0s\u001b[0m 4ms/step - loss: 0.0979 - val_loss: 0.1520\n",
      "Epoch 63/100\n",
      "\u001b[1m43/43\u001b[0m \u001b[32m━━━━━━━━━━━━━━━━━━━━\u001b[0m\u001b[37m\u001b[0m \u001b[1m0s\u001b[0m 5ms/step - loss: 0.1201 - val_loss: 0.1663\n",
      "Epoch 64/100\n",
      "\u001b[1m43/43\u001b[0m \u001b[32m━━━━━━━━━━━━━━━━━━━━\u001b[0m\u001b[37m\u001b[0m \u001b[1m0s\u001b[0m 5ms/step - loss: 0.1020 - val_loss: 0.1551\n",
      "Epoch 65/100\n",
      "\u001b[1m43/43\u001b[0m \u001b[32m━━━━━━━━━━━━━━━━━━━━\u001b[0m\u001b[37m\u001b[0m \u001b[1m0s\u001b[0m 4ms/step - loss: 0.0939 - val_loss: 0.1570\n",
      "Epoch 66/100\n",
      "\u001b[1m43/43\u001b[0m \u001b[32m━━━━━━━━━━━━━━━━━━━━\u001b[0m\u001b[37m\u001b[0m \u001b[1m0s\u001b[0m 4ms/step - loss: 0.1017 - val_loss: 0.1517\n",
      "Epoch 67/100\n",
      "\u001b[1m43/43\u001b[0m \u001b[32m━━━━━━━━━━━━━━━━━━━━\u001b[0m\u001b[37m\u001b[0m \u001b[1m0s\u001b[0m 5ms/step - loss: 0.1080 - val_loss: 0.1514\n",
      "Epoch 68/100\n",
      "\u001b[1m43/43\u001b[0m \u001b[32m━━━━━━━━━━━━━━━━━━━━\u001b[0m\u001b[37m\u001b[0m \u001b[1m0s\u001b[0m 5ms/step - loss: 0.1131 - val_loss: 0.1550\n",
      "Epoch 69/100\n",
      "\u001b[1m43/43\u001b[0m \u001b[32m━━━━━━━━━━━━━━━━━━━━\u001b[0m\u001b[37m\u001b[0m \u001b[1m0s\u001b[0m 4ms/step - loss: 0.1092 - val_loss: 0.1583\n",
      "Epoch 70/100\n",
      "\u001b[1m43/43\u001b[0m \u001b[32m━━━━━━━━━━━━━━━━━━━━\u001b[0m\u001b[37m\u001b[0m \u001b[1m0s\u001b[0m 4ms/step - loss: 0.1015 - val_loss: 0.1607\n",
      "Epoch 71/100\n",
      "\u001b[1m43/43\u001b[0m \u001b[32m━━━━━━━━━━━━━━━━━━━━\u001b[0m\u001b[37m\u001b[0m \u001b[1m0s\u001b[0m 4ms/step - loss: 0.1059 - val_loss: 0.1525\n",
      "Epoch 72/100\n",
      "\u001b[1m43/43\u001b[0m \u001b[32m━━━━━━━━━━━━━━━━━━━━\u001b[0m\u001b[37m\u001b[0m \u001b[1m0s\u001b[0m 4ms/step - loss: 0.0971 - val_loss: 0.1742\n",
      "Epoch 73/100\n",
      "\u001b[1m43/43\u001b[0m \u001b[32m━━━━━━━━━━━━━━━━━━━━\u001b[0m\u001b[37m\u001b[0m \u001b[1m0s\u001b[0m 4ms/step - loss: 0.0979 - val_loss: 0.1516\n",
      "Epoch 74/100\n",
      "\u001b[1m43/43\u001b[0m \u001b[32m━━━━━━━━━━━━━━━━━━━━\u001b[0m\u001b[37m\u001b[0m \u001b[1m0s\u001b[0m 4ms/step - loss: 0.1155 - val_loss: 0.1523\n",
      "Epoch 75/100\n",
      "\u001b[1m43/43\u001b[0m \u001b[32m━━━━━━━━━━━━━━━━━━━━\u001b[0m\u001b[37m\u001b[0m \u001b[1m0s\u001b[0m 4ms/step - loss: 0.0904 - val_loss: 0.1475\n",
      "Epoch 76/100\n",
      "\u001b[1m43/43\u001b[0m \u001b[32m━━━━━━━━━━━━━━━━━━━━\u001b[0m\u001b[37m\u001b[0m \u001b[1m0s\u001b[0m 5ms/step - loss: 0.0844 - val_loss: 0.1576\n",
      "Epoch 77/100\n",
      "\u001b[1m43/43\u001b[0m \u001b[32m━━━━━━━━━━━━━━━━━━━━\u001b[0m\u001b[37m\u001b[0m \u001b[1m0s\u001b[0m 4ms/step - loss: 0.0996 - val_loss: 0.1570\n",
      "Epoch 78/100\n",
      "\u001b[1m43/43\u001b[0m \u001b[32m━━━━━━━━━━━━━━━━━━━━\u001b[0m\u001b[37m\u001b[0m \u001b[1m0s\u001b[0m 5ms/step - loss: 0.1001 - val_loss: 0.1591\n",
      "Epoch 79/100\n",
      "\u001b[1m43/43\u001b[0m \u001b[32m━━━━━━━━━━━━━━━━━━━━\u001b[0m\u001b[37m\u001b[0m \u001b[1m0s\u001b[0m 5ms/step - loss: 0.1037 - val_loss: 0.1541\n",
      "Epoch 80/100\n",
      "\u001b[1m43/43\u001b[0m \u001b[32m━━━━━━━━━━━━━━━━━━━━\u001b[0m\u001b[37m\u001b[0m \u001b[1m0s\u001b[0m 5ms/step - loss: 0.1074 - val_loss: 0.1618\n",
      "Epoch 81/100\n",
      "\u001b[1m43/43\u001b[0m \u001b[32m━━━━━━━━━━━━━━━━━━━━\u001b[0m\u001b[37m\u001b[0m \u001b[1m0s\u001b[0m 5ms/step - loss: 0.0905 - val_loss: 0.1493\n",
      "Epoch 82/100\n",
      "\u001b[1m43/43\u001b[0m \u001b[32m━━━━━━━━━━━━━━━━━━━━\u001b[0m\u001b[37m\u001b[0m \u001b[1m0s\u001b[0m 5ms/step - loss: 0.1110 - val_loss: 0.1496\n",
      "Epoch 83/100\n",
      "\u001b[1m43/43\u001b[0m \u001b[32m━━━━━━━━━━━━━━━━━━━━\u001b[0m\u001b[37m\u001b[0m \u001b[1m0s\u001b[0m 4ms/step - loss: 0.1233 - val_loss: 0.1574\n",
      "Epoch 84/100\n",
      "\u001b[1m43/43\u001b[0m \u001b[32m━━━━━━━━━━━━━━━━━━━━\u001b[0m\u001b[37m\u001b[0m \u001b[1m0s\u001b[0m 4ms/step - loss: 0.0891 - val_loss: 0.1671\n",
      "Epoch 85/100\n",
      "\u001b[1m43/43\u001b[0m \u001b[32m━━━━━━━━━━━━━━━━━━━━\u001b[0m\u001b[37m\u001b[0m \u001b[1m0s\u001b[0m 5ms/step - loss: 0.0982 - val_loss: 0.1482\n",
      "Epoch 86/100\n",
      "\u001b[1m43/43\u001b[0m \u001b[32m━━━━━━━━━━━━━━━━━━━━\u001b[0m\u001b[37m\u001b[0m \u001b[1m0s\u001b[0m 5ms/step - loss: 0.0945 - val_loss: 0.1607\n",
      "Epoch 87/100\n",
      "\u001b[1m43/43\u001b[0m \u001b[32m━━━━━━━━━━━━━━━━━━━━\u001b[0m\u001b[37m\u001b[0m \u001b[1m0s\u001b[0m 4ms/step - loss: 0.0924 - val_loss: 0.1607\n",
      "Epoch 88/100\n",
      "\u001b[1m43/43\u001b[0m \u001b[32m━━━━━━━━━━━━━━━━━━━━\u001b[0m\u001b[37m\u001b[0m \u001b[1m0s\u001b[0m 5ms/step - loss: 0.0941 - val_loss: 0.1594\n",
      "Epoch 89/100\n",
      "\u001b[1m43/43\u001b[0m \u001b[32m━━━━━━━━━━━━━━━━━━━━\u001b[0m\u001b[37m\u001b[0m \u001b[1m0s\u001b[0m 4ms/step - loss: 0.0801 - val_loss: 0.1513\n",
      "Epoch 90/100\n",
      "\u001b[1m43/43\u001b[0m \u001b[32m━━━━━━━━━━━━━━━━━━━━\u001b[0m\u001b[37m\u001b[0m \u001b[1m0s\u001b[0m 4ms/step - loss: 0.0887 - val_loss: 0.1478\n",
      "Epoch 91/100\n",
      "\u001b[1m43/43\u001b[0m \u001b[32m━━━━━━━━━━━━━━━━━━━━\u001b[0m\u001b[37m\u001b[0m \u001b[1m0s\u001b[0m 4ms/step - loss: 0.0817 - val_loss: 0.1495\n",
      "Epoch 92/100\n",
      "\u001b[1m43/43\u001b[0m \u001b[32m━━━━━━━━━━━━━━━━━━━━\u001b[0m\u001b[37m\u001b[0m \u001b[1m0s\u001b[0m 5ms/step - loss: 0.0861 - val_loss: 0.1496\n",
      "Epoch 93/100\n",
      "\u001b[1m43/43\u001b[0m \u001b[32m━━━━━━━━━━━━━━━━━━━━\u001b[0m\u001b[37m\u001b[0m \u001b[1m0s\u001b[0m 5ms/step - loss: 0.0926 - val_loss: 0.1572\n",
      "Epoch 94/100\n",
      "\u001b[1m43/43\u001b[0m \u001b[32m━━━━━━━━━━━━━━━━━━━━\u001b[0m\u001b[37m\u001b[0m \u001b[1m0s\u001b[0m 4ms/step - loss: 0.0828 - val_loss: 0.1650\n",
      "Epoch 95/100\n",
      "\u001b[1m43/43\u001b[0m \u001b[32m━━━━━━━━━━━━━━━━━━━━\u001b[0m\u001b[37m\u001b[0m \u001b[1m0s\u001b[0m 4ms/step - loss: 0.0939 - val_loss: 0.1576\n",
      "Epoch 96/100\n",
      "\u001b[1m43/43\u001b[0m \u001b[32m━━━━━━━━━━━━━━━━━━━━\u001b[0m\u001b[37m\u001b[0m \u001b[1m0s\u001b[0m 4ms/step - loss: 0.1025 - val_loss: 0.1670\n",
      "Epoch 97/100\n",
      "\u001b[1m43/43\u001b[0m \u001b[32m━━━━━━━━━━━━━━━━━━━━\u001b[0m\u001b[37m\u001b[0m \u001b[1m0s\u001b[0m 4ms/step - loss: 0.0864 - val_loss: 0.1515\n",
      "Epoch 98/100\n",
      "\u001b[1m43/43\u001b[0m \u001b[32m━━━━━━━━━━━━━━━━━━━━\u001b[0m\u001b[37m\u001b[0m \u001b[1m0s\u001b[0m 4ms/step - loss: 0.0908 - val_loss: 0.1668\n",
      "Epoch 99/100\n",
      "\u001b[1m43/43\u001b[0m \u001b[32m━━━━━━━━━━━━━━━━━━━━\u001b[0m\u001b[37m\u001b[0m \u001b[1m0s\u001b[0m 4ms/step - loss: 0.0903 - val_loss: 0.1526\n",
      "Epoch 100/100\n",
      "\u001b[1m43/43\u001b[0m \u001b[32m━━━━━━━━━━━━━━━━━━━━\u001b[0m\u001b[37m\u001b[0m \u001b[1m0s\u001b[0m 5ms/step - loss: 0.0806 - val_loss: 0.1568\n"
     ]
    }
   ],
   "source": [
    "# fit the artificial model with training data\n",
    "epochs_hist = ANN_model.fit(X_train, y_train, epochs = 100, batch_size = 20, validation_split = 0.2)"
   ]
  },
  {
   "cell_type": "code",
   "execution_count": 50,
   "id": "2d48cc21-8dc4-4fc1-9745-0835fe5e4faf",
   "metadata": {
    "execution": {
     "iopub.execute_input": "2025-10-07T18:50:30.672558Z",
     "iopub.status.busy": "2025-10-07T18:50:30.672259Z",
     "iopub.status.idle": "2025-10-07T18:50:30.797396Z",
     "shell.execute_reply": "2025-10-07T18:50:30.796619Z",
     "shell.execute_reply.started": "2025-10-07T18:50:30.672535Z"
    }
   },
   "outputs": [
    {
     "name": "stdout",
     "output_type": "stream",
     "text": [
      "\u001b[1m9/9\u001b[0m \u001b[32m━━━━━━━━━━━━━━━━━━━━\u001b[0m\u001b[37m\u001b[0m \u001b[1m0s\u001b[0m 4ms/step - loss: 0.2171 \n",
      "Accuracy : 0.797929659485817\n"
     ]
    }
   ],
   "source": [
    "# loss value improved so model looks good\n",
    "# evaluate the result\n",
    "result = ANN_model.evaluate(X_test,y_test)\n",
    "accuracy_ANN = 1-result\n",
    "print('Accuracy : {}'.format(accuracy_ANN))"
   ]
  },
  {
   "cell_type": "code",
   "execution_count": 51,
   "id": "1df35574-4578-4d9a-a900-074e75be26c7",
   "metadata": {
    "execution": {
     "iopub.execute_input": "2025-10-07T18:53:04.803753Z",
     "iopub.status.busy": "2025-10-07T18:53:04.803376Z",
     "iopub.status.idle": "2025-10-07T18:53:04.809777Z",
     "shell.execute_reply": "2025-10-07T18:53:04.809011Z",
     "shell.execute_reply.started": "2025-10-07T18:53:04.803719Z"
    }
   },
   "outputs": [
    {
     "data": {
      "text/plain": [
       "dict_keys(['loss', 'val_loss'])"
      ]
     },
     "execution_count": 51,
     "metadata": {},
     "output_type": "execute_result"
    }
   ],
   "source": [
    "epochs_hist.history.keys()"
   ]
  },
  {
   "cell_type": "code",
   "execution_count": 52,
   "id": "61a09203-665b-454e-a86c-d77fa08adc63",
   "metadata": {
    "execution": {
     "iopub.execute_input": "2025-10-07T18:55:46.777606Z",
     "iopub.status.busy": "2025-10-07T18:55:46.777334Z",
     "iopub.status.idle": "2025-10-07T18:55:47.282105Z",
     "shell.execute_reply": "2025-10-07T18:55:47.281458Z",
     "shell.execute_reply.started": "2025-10-07T18:55:46.777584Z"
    }
   },
   "outputs": [
    {
     "data": {
      "text/plain": [
       "<matplotlib.legend.Legend at 0x7f2b661b2390>"
      ]
     },
     "execution_count": 52,
     "metadata": {},
     "output_type": "execute_result"
    },
    {
     "data": {
      "image/png": "[encoded data removed]",
      "text/plain": [
       "<Figure size 640x480 with 1 Axes>"
      ]
     },
     "metadata": {},
     "output_type": "display_data"
    }
   ],
   "source": [
    "# trying to plot the loss and validation loss \n",
    "plt.plot(epochs_hist.history['loss'])\n",
    "plt.plot(epochs_hist.history['val_loss'])\n",
    "plt.title(\"Model Loss Progress During Training\")\n",
    "plt.xlabel('Epoch')\n",
    "plt.ylabel('Training and Validation loss')\n",
    "plt.legend(['Training Loss','Validation Loss'])\n",
    "        "
   ]
  },
  {
   "cell_type": "code",
   "execution_count": 53,
   "id": "8a373790-616c-48d5-ba20-8ac464ce64c2",
   "metadata": {
    "execution": {
     "iopub.execute_input": "2025-10-07T18:58:30.046182Z",
     "iopub.status.busy": "2025-10-07T18:58:30.045906Z",
     "iopub.status.idle": "2025-10-07T18:58:30.051357Z",
     "shell.execute_reply": "2025-10-07T18:58:30.049989Z",
     "shell.execute_reply.started": "2025-10-07T18:58:30.046161Z"
    }
   },
   "outputs": [],
   "source": [
    "# here loss started high and went low\n",
    "# validation loss started high but later it pretty much froze => kind of overfitting"
   ]
  },
  {
   "cell_type": "code",
   "execution_count": 54,
   "id": "bf8bc842-f510-4726-8d5f-a153e58d1abb",
   "metadata": {
    "execution": {
     "iopub.execute_input": "2025-10-07T19:01:02.045836Z",
     "iopub.status.busy": "2025-10-07T19:01:02.045455Z",
     "iopub.status.idle": "2025-10-07T19:01:04.661580Z",
     "shell.execute_reply": "2025-10-07T19:01:04.660022Z",
     "shell.execute_reply.started": "2025-10-07T19:01:02.045801Z"
    }
   },
   "outputs": [
    {
     "name": "stdout",
     "output_type": "stream",
     "text": [
      "\u001b[1m9/9\u001b[0m \u001b[32m━━━━━━━━━━━━━━━━━━━━\u001b[0m\u001b[37m\u001b[0m \u001b[1m1s\u001b[0m 23ms/step\n"
     ]
    },
    {
     "data": {
      "text/plain": [
       "Text(0, 0.5, 'True Values')"
      ]
     },
     "execution_count": 54,
     "metadata": {},
     "output_type": "execute_result"
    },
    {
     "data": {
      "image/png": "[encoded data removed]",
      "text/plain": [
       "<Figure size 640x480 with 1 Axes>"
      ]
     },
     "metadata": {},
     "output_type": "display_data"
    }
   ],
   "source": [
    "# lets go ahead and predict the output\n",
    "y_predict = ANN_model.predict(X_test)\n",
    "plt.plot(y_test,y_predict,\"^\",color = 'r')\n",
    "plt.xlabel('Model Predictions')\n",
    "plt.ylabel('True Values')\n",
    "# if the model is working fine we need to see a proper 45 degree line between predicted and test values\n"
   ]
  },
  {
   "cell_type": "code",
   "execution_count": 55,
   "id": "f2082c3d-a5ed-48ae-8669-ea179aa65ae7",
   "metadata": {
    "execution": {
     "iopub.execute_input": "2025-10-07T19:01:41.047212Z",
     "iopub.status.busy": "2025-10-07T19:01:41.046733Z",
     "iopub.status.idle": "2025-10-07T19:01:41.049878Z",
     "shell.execute_reply": "2025-10-07T19:01:41.049348Z",
     "shell.execute_reply.started": "2025-10-07T19:01:41.047185Z"
    }
   },
   "outputs": [],
   "source": [
    "# we see the decent line here"
   ]
  },
  {
   "cell_type": "code",
   "execution_count": 57,
   "id": "8cfaf924-6fb4-44ad-8935-7578e8a80804",
   "metadata": {
    "execution": {
     "iopub.execute_input": "2025-10-07T19:03:34.312418Z",
     "iopub.status.busy": "2025-10-07T19:03:34.312099Z",
     "iopub.status.idle": "2025-10-07T19:03:34.316461Z",
     "shell.execute_reply": "2025-10-07T19:03:34.315685Z",
     "shell.execute_reply.started": "2025-10-07T19:03:34.312393Z"
    }
   },
   "outputs": [],
   "source": [
    "# now convert the values to their original format of dollors\n",
    "y_predict_orig = scaler_y.inverse_transform(y_predict)\n",
    "y_test_orig = scaler_y.inverse_transform(y_test)"
   ]
  },
  {
   "cell_type": "code",
   "execution_count": 58,
   "id": "975e3bb8-04ca-4968-bee5-544374b02157",
   "metadata": {
    "execution": {
     "iopub.execute_input": "2025-10-07T19:04:57.899253Z",
     "iopub.status.busy": "2025-10-07T19:04:57.898690Z",
     "iopub.status.idle": "2025-10-07T19:04:58.068895Z",
     "shell.execute_reply": "2025-10-07T19:04:58.068028Z",
     "shell.execute_reply.started": "2025-10-07T19:04:57.899210Z"
    }
   },
   "outputs": [
    {
     "data": {
      "text/plain": [
       "Text(0, 0.5, 'True Values')"
      ]
     },
     "execution_count": 58,
     "metadata": {},
     "output_type": "execute_result"
    },
    {
     "data": {
      "image/png": "[encoded data removed]",
      "text/plain": [
       "<Figure size 640x480 with 1 Axes>"
      ]
     },
     "metadata": {},
     "output_type": "display_data"
    }
   ],
   "source": [
    "# lets draw the same graph\n",
    "plt.plot(y_test_orig, y_predict_orig, \"^\" , color = 'r')\n",
    "plt.xlabel(\"Model Predictions\")\n",
    "plt.ylabel(\"True Values\")"
   ]
  },
  {
   "cell_type": "code",
   "execution_count": 60,
   "id": "9c582a31-c38e-4143-ad71-c1f56a409fe1",
   "metadata": {
    "execution": {
     "iopub.execute_input": "2025-10-07T19:12:10.806635Z",
     "iopub.status.busy": "2025-10-07T19:12:10.806351Z",
     "iopub.status.idle": "2025-10-07T19:12:10.813539Z",
     "shell.execute_reply": "2025-10-07T19:12:10.812985Z",
     "shell.execute_reply.started": "2025-10-07T19:12:10.806612Z"
    }
   },
   "outputs": [
    {
     "name": "stdout",
     "output_type": "stream",
     "text": [
      "RMSE =  5441.686 \n",
      "MSE =  29611944.0 \n",
      "MAE =  3068.6240234375 \n",
      "R2 =  0.8260568380355835 \n",
      "adj_r2 =  0.8206840762760649\n"
     ]
    }
   ],
   "source": [
    "# lets go ahead and calculate the metrics\n",
    "k = X_test.shape[1] # number of input variables\n",
    "n = len(X_test) # number of data samples used\n",
    "\n",
    "from sklearn.metrics import r2_score, mean_squared_error, mean_absolute_error\n",
    "from math import sqrt\n",
    "\n",
    "MSE = mean_squared_error(y_test_orig,y_predict_orig)\n",
    "MAE = mean_absolute_error(y_test_orig, y_predict_orig)\n",
    "RMSE = float(format(np.sqrt(MSE),'.3f'))\n",
    "r2 = r2_score(y_test_orig,y_predict_orig)\n",
    "adj_r2 = 1-(1-r2)*(n-1)/(n-k-1)\n",
    "\n",
    "print('RMSE = ',RMSE,'\\nMSE = ',MSE, '\\nMAE = ',MAE,'\\nR2 = ',r2,'\\nadj_r2 = ',adj_r2)"
   ]
  },
  {
   "cell_type": "code",
   "execution_count": null,
   "id": "c765c00d-0721-4a19-8744-c5cf3fe484c1",
   "metadata": {},
   "outputs": [],
   "source": []
  }
 ],
 "metadata": {
  "kernelspec": {
   "display_name": "Python 3 (ipykernel)",
   "language": "python",
   "name": "python3"
  },
  "language_info": {
   "codemirror_mode": {
    "name": "ipython",
    "version": 3
   },
   "file_extension": ".py",
   "mimetype": "text/x-python",
   "name": "python",
   "nbconvert_exporter": "python",
   "pygments_lexer": "ipython3",
   "version": "3.12.9"
  }
 },
 "nbformat": 4,
 "nbformat_minor": 5
}
